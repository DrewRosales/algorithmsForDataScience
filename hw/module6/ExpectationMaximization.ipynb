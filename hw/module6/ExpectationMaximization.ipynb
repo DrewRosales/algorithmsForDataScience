{
 "cells": [
  {
   "cell_type": "markdown",
   "metadata": {},
   "source": [
    "# Module 6 Activity"
   ]
  },
  {
   "cell_type": "markdown",
   "metadata": {},
   "source": [
    "During this module we are learning about computational statistics which is a branch of mathematical sciences concerned with efficient methods for obtaining numerical solutions to statistically formulated problems.\n",
    "\n",
    "In this activity you are going to go through the process of calculating Expectation Maximization as shown in the lecture notes and slides using the following two column example. "
   ]
  },
  {
   "cell_type": "code",
   "execution_count": 107,
   "metadata": {},
   "outputs": [
    {
     "name": "stdout",
     "output_type": "stream",
     "text": [
      "[[1 2]\n",
      " [4 2]\n",
      " [1 3]\n",
      " [4 3]]\n"
     ]
    }
   ],
   "source": [
    "import numpy as np\n",
    "\n",
    "# Define the columns\n",
    "column_1 = np.array([1, 4, 1, 4])\n",
    "column_2 = np.array([2, 2, 3, 3])\n",
    "\n",
    "# Create the 2-column array\n",
    "x = np.column_stack((column_1, column_2))\n",
    "print(x)"
   ]
  },
  {
   "cell_type": "code",
   "execution_count": 108,
   "metadata": {},
   "outputs": [],
   "source": [
    "# Column means\n",
    "column_mean = np.asarray([np.mean(x_col) for x_col in x.T])\n",
    "# Column standard deviations\n",
    "column_std = np.asarray([np.std(x_col) for x_col in x.T])"
   ]
  },
  {
   "cell_type": "code",
   "execution_count": 109,
   "metadata": {},
   "outputs": [
    {
     "data": {
      "text/plain": [
       "array([[2.5],\n",
       "       [2.5]])"
      ]
     },
     "execution_count": 109,
     "metadata": {},
     "output_type": "execute_result"
    }
   ],
   "source": [
    "column_mean.reshape(2,1)"
   ]
  },
  {
   "cell_type": "code",
   "execution_count": 110,
   "metadata": {},
   "outputs": [
    {
     "data": {
      "text/plain": [
       "array([[1.5],\n",
       "       [0.5]])"
      ]
     },
     "execution_count": 110,
     "metadata": {},
     "output_type": "execute_result"
    }
   ],
   "source": [
    "column_std.reshape(2,1)"
   ]
  },
  {
   "cell_type": "code",
   "execution_count": 111,
   "metadata": {},
   "outputs": [
    {
     "data": {
      "text/plain": [
       "array([[-1.22426087,  1.25857971],\n",
       "       [ 2.67074799,  2.556916  ]])"
      ]
     },
     "execution_count": 111,
     "metadata": {},
     "output_type": "execute_result"
    }
   ],
   "source": [
    "# Mu\n",
    "mu = column_mean * np.array([1, 1]) + column_std * np.random.randn(2,1)\n",
    "mu"
   ]
  },
  {
   "cell_type": "code",
   "execution_count": 112,
   "metadata": {},
   "outputs": [
    {
     "data": {
      "text/plain": [
       "array([2.5, 2.5])"
      ]
     },
     "execution_count": 112,
     "metadata": {},
     "output_type": "execute_result"
    }
   ],
   "source": [
    "#Sigma\n",
    "sigma = np.mean(column_mean) * np.array([1,1])\n",
    "sigma"
   ]
  },
  {
   "cell_type": "code",
   "execution_count": 113,
   "metadata": {},
   "outputs": [],
   "source": [
    "#P_k\n",
    "K = 2\n",
    "P_k = np.array([1, 1]) / K"
   ]
  },
  {
   "cell_type": "code",
   "execution_count": 121,
   "metadata": {},
   "outputs": [],
   "source": [
    "# Create E Step\n",
    "def estep(p, x, mean, std):\n",
    "   N, D = x.shape \n",
    "   K = len(p)\n",
    "   g = np.zeros((N, K))\n",
    "   \n",
    "   # compute the multivariate normal distribution\n",
    "   for k in range(K):\n",
    "      for n in range(N):\n",
    "         coeff = 1 / (np.sqrt(2 * np.pi) * std[k]) ** D\n",
    "         exponent = np.exp(0.5 * np.linalg.norm(x[n, :] - mean[k]) / std[k]) ** 2\n",
    "         g[n, k]= coeff * exponent\n",
    "   \n",
    "   for k in range(K):\n",
    "      p_g = p[k] *  g[:, k]\n",
    "   \n",
    "   out = p_g / np.sum(p_g)\n",
    "   return out"
   ]
  },
  {
   "cell_type": "code",
   "execution_count": 122,
   "metadata": {},
   "outputs": [
    {
     "data": {
      "text/plain": [
       "array([0.2678942 , 0.23571516, 0.26442141, 0.23196924])"
      ]
     },
     "execution_count": 122,
     "metadata": {},
     "output_type": "execute_result"
    }
   ],
   "source": [
    "P_vect = estep(P_k, x, mu, sigma)"
   ]
  },
  {
   "cell_type": "code",
   "execution_count": 115,
   "metadata": {},
   "outputs": [],
   "source": [
    "# Create M-Step\n",
    "N = x.shape[1]\n",
    "\n",
    "#for n in range(N):\n"
   ]
  },
  {
   "cell_type": "markdown",
   "metadata": {},
   "source": [
    "Please add your Jupyter Notebook in HTML format to the discussion board found under Module 6. You are encouraged to review other students' submissions to check and discuss differences in your approaches. "
   ]
  }
 ],
 "metadata": {
  "kernelspec": {
   "display_name": "en-685-621",
   "language": "python",
   "name": "python3"
  },
  "language_info": {
   "codemirror_mode": {
    "name": "ipython",
    "version": 3
   },
   "file_extension": ".py",
   "mimetype": "text/x-python",
   "name": "python",
   "nbconvert_exporter": "python",
   "pygments_lexer": "ipython3",
   "version": "3.12.3"
  }
 },
 "nbformat": 4,
 "nbformat_minor": 2
}
