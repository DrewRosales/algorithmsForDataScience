{
 "cells": [
  {
   "cell_type": "markdown",
   "metadata": {},
   "source": [
    "# Programming Assignment 1\n",
    "#### Drew Rosales"
   ]
  },
  {
   "cell_type": "markdown",
   "metadata": {},
   "source": [
    "## Data Analysis"
   ]
  },
  {
   "cell_type": "code",
   "execution_count": 60,
   "metadata": {},
   "outputs": [],
   "source": [
    "import numpy as np\n",
    "import pandas as pd\n",
    "from scipy.stats import kurtosis, skew"
   ]
  },
  {
   "cell_type": "markdown",
   "metadata": {},
   "source": [
    "First, let's look the dataset into a pandas dataframe and view the contents"
   ]
  },
  {
   "cell_type": "code",
   "execution_count": 61,
   "metadata": {},
   "outputs": [
    {
     "data": {
      "text/html": [
       "<div>\n",
       "<style scoped>\n",
       "    .dataframe tbody tr th:only-of-type {\n",
       "        vertical-align: middle;\n",
       "    }\n",
       "\n",
       "    .dataframe tbody tr th {\n",
       "        vertical-align: top;\n",
       "    }\n",
       "\n",
       "    .dataframe thead th {\n",
       "        text-align: right;\n",
       "    }\n",
       "</style>\n",
       "<table border=\"1\" class=\"dataframe\">\n",
       "  <thead>\n",
       "    <tr style=\"text-align: right;\">\n",
       "      <th></th>\n",
       "      <th>sepal_length</th>\n",
       "      <th>sepal_width</th>\n",
       "      <th>petal_length</th>\n",
       "      <th>petal_width</th>\n",
       "      <th>species</th>\n",
       "    </tr>\n",
       "  </thead>\n",
       "  <tbody>\n",
       "    <tr>\n",
       "      <th>0</th>\n",
       "      <td>5.1</td>\n",
       "      <td>3.5</td>\n",
       "      <td>1.4</td>\n",
       "      <td>0.2</td>\n",
       "      <td>setosa</td>\n",
       "    </tr>\n",
       "    <tr>\n",
       "      <th>1</th>\n",
       "      <td>4.9</td>\n",
       "      <td>3.0</td>\n",
       "      <td>1.4</td>\n",
       "      <td>0.2</td>\n",
       "      <td>setosa</td>\n",
       "    </tr>\n",
       "    <tr>\n",
       "      <th>2</th>\n",
       "      <td>4.7</td>\n",
       "      <td>3.2</td>\n",
       "      <td>1.3</td>\n",
       "      <td>0.2</td>\n",
       "      <td>setosa</td>\n",
       "    </tr>\n",
       "    <tr>\n",
       "      <th>3</th>\n",
       "      <td>4.6</td>\n",
       "      <td>3.1</td>\n",
       "      <td>1.5</td>\n",
       "      <td>0.2</td>\n",
       "      <td>setosa</td>\n",
       "    </tr>\n",
       "    <tr>\n",
       "      <th>4</th>\n",
       "      <td>5.0</td>\n",
       "      <td>3.6</td>\n",
       "      <td>1.4</td>\n",
       "      <td>0.2</td>\n",
       "      <td>setosa</td>\n",
       "    </tr>\n",
       "    <tr>\n",
       "      <th>...</th>\n",
       "      <td>...</td>\n",
       "      <td>...</td>\n",
       "      <td>...</td>\n",
       "      <td>...</td>\n",
       "      <td>...</td>\n",
       "    </tr>\n",
       "    <tr>\n",
       "      <th>145</th>\n",
       "      <td>6.7</td>\n",
       "      <td>3.0</td>\n",
       "      <td>5.2</td>\n",
       "      <td>2.3</td>\n",
       "      <td>virginica</td>\n",
       "    </tr>\n",
       "    <tr>\n",
       "      <th>146</th>\n",
       "      <td>6.3</td>\n",
       "      <td>2.5</td>\n",
       "      <td>5.0</td>\n",
       "      <td>1.9</td>\n",
       "      <td>virginica</td>\n",
       "    </tr>\n",
       "    <tr>\n",
       "      <th>147</th>\n",
       "      <td>6.5</td>\n",
       "      <td>3.0</td>\n",
       "      <td>5.2</td>\n",
       "      <td>2.0</td>\n",
       "      <td>virginica</td>\n",
       "    </tr>\n",
       "    <tr>\n",
       "      <th>148</th>\n",
       "      <td>6.2</td>\n",
       "      <td>3.4</td>\n",
       "      <td>5.4</td>\n",
       "      <td>2.3</td>\n",
       "      <td>virginica</td>\n",
       "    </tr>\n",
       "    <tr>\n",
       "      <th>149</th>\n",
       "      <td>5.9</td>\n",
       "      <td>3.0</td>\n",
       "      <td>5.1</td>\n",
       "      <td>1.8</td>\n",
       "      <td>virginica</td>\n",
       "    </tr>\n",
       "  </tbody>\n",
       "</table>\n",
       "<p>150 rows × 5 columns</p>\n",
       "</div>"
      ],
      "text/plain": [
       "     sepal_length  sepal_width  petal_length  petal_width    species\n",
       "0             5.1          3.5           1.4          0.2     setosa\n",
       "1             4.9          3.0           1.4          0.2     setosa\n",
       "2             4.7          3.2           1.3          0.2     setosa\n",
       "3             4.6          3.1           1.5          0.2     setosa\n",
       "4             5.0          3.6           1.4          0.2     setosa\n",
       "..            ...          ...           ...          ...        ...\n",
       "145           6.7          3.0           5.2          2.3  virginica\n",
       "146           6.3          2.5           5.0          1.9  virginica\n",
       "147           6.5          3.0           5.2          2.0  virginica\n",
       "148           6.2          3.4           5.4          2.3  virginica\n",
       "149           5.9          3.0           5.1          1.8  virginica\n",
       "\n",
       "[150 rows x 5 columns]"
      ]
     },
     "execution_count": 61,
     "metadata": {},
     "output_type": "execute_result"
    }
   ],
   "source": [
    "iris_df = pd.read_csv(\"iris.csv\")\n",
    "iris_df"
   ]
  },
  {
   "cell_type": "markdown",
   "metadata": {},
   "source": [
    "### Perform test statistics for each feature and class: minimum, maximum, mean, trimmed mean, alpha trimmed mean, standard deviation, skewness, and kurtosis"
   ]
  },
  {
   "cell_type": "code",
   "execution_count": 62,
   "metadata": {},
   "outputs": [],
   "source": [
    "def create_test_statistics(x, p, alpha):\n",
    "    n = len(x)\n",
    "    x = list(sorted(x))\n",
    "    np.min(x)\n",
    "    np.max(x)\n",
    "    mu = np.mean(x, axis=0) # column-wise mean\n",
    "    mu_trim = np.mean(x[p:-p], axis=0)\n",
    "    mu_alpha = np.mean(x[int(np.floor(n*alpha)) :-int(np.floor(n*alpha))], axis=0) \n",
    "    sigma = np.std(x, axis=0)\n",
    "    skewness = skew(x, axis=0)\n",
    "    kurt = kurtosis(x, axis=0)\n",
    "    return (mu, mu_trim, mu_alpha, sigma, skewness, kurt)\n",
    "    "
   ]
  },
  {
   "cell_type": "code",
   "execution_count": 63,
   "metadata": {},
   "outputs": [],
   "source": [
    "def separate_features(df):\n",
    "    sepal_length = df[\"sepal_length\"]\n",
    "    sepal_width = df[\"sepal_width\"]\n",
    "    petal_length = df[\"petal_length\"]\n",
    "    petal_width = df[\"petal_width\"]\n",
    "    return [sepal_length, sepal_width, petal_length, petal_width]"
   ]
  },
  {
   "cell_type": "markdown",
   "metadata": {},
   "source": [
    "Separate per class into `setosa`, `virginica` and `versicolor`"
   ]
  },
  {
   "cell_type": "code",
   "execution_count": 64,
   "metadata": {},
   "outputs": [],
   "source": [
    "setosa_df = iris_df[iris_df[\"species\"] == \"setosa\"]\n",
    "versicolor_df = iris_df[iris_df[\"species\"] == \"versicolor\"]\n",
    "virginica_df = iris_df[iris_df[\"species\"] == \"virginica\"]"
   ]
  },
  {
   "cell_type": "markdown",
   "metadata": {},
   "source": [
    "Each test statistic is represented as a tuple in the following format: `(minimum, maximum, mean, trimmed mean, alpha trimmed mean, standard deviation, skewness, kurtosis)`. A tuple is placed in a list in the following order for the features of the three species: `[sepal_length, sepal_width, petal_length, petal_width]`."
   ]
  },
  {
   "cell_type": "code",
   "execution_count": 65,
   "metadata": {},
   "outputs": [],
   "source": [
    "# create the test statistics 3-values trimmed and 5% trimmed\n",
    "setosa_stats = [create_test_statistics(feature.values, 3, 0.05) for feature in separate_features(setosa_df)]\n",
    "versicolor_stats = [create_test_statistics(feature.values, 3, 0.05) for feature in separate_features(versicolor_df)]\n",
    "virginica_stats = [create_test_statistics(feature.values, 3, 0.05) for feature in separate_features(virginica_df)]"
   ]
  },
  {
   "cell_type": "code",
   "execution_count": 66,
   "metadata": {},
   "outputs": [
    {
     "data": {
      "text/plain": [
       "[(np.float64(5.006),\n",
       "  np.float64(5.0),\n",
       "  np.float64(5.002173913043478),\n",
       "  np.float64(0.3489469873777391),\n",
       "  np.float64(0.11645392749203061),\n",
       "  np.float64(-0.34576467558246327)),\n",
       " (np.float64(3.418),\n",
       "  np.float64(3.4090909090909096),\n",
       "  np.float64(3.415217391304348),\n",
       "  np.float64(0.3771949098277971),\n",
       "  np.float64(0.10381408207478497),\n",
       "  np.float64(0.6851340609499266)),\n",
       " (np.float64(1.464),\n",
       "  np.float64(1.4636363636363638),\n",
       "  np.float64(1.46304347826087),\n",
       "  np.float64(0.17176728442867112),\n",
       "  np.float64(0.06967253443431645),\n",
       "  np.float64(0.8136648848819621)),\n",
       " (np.float64(0.244),\n",
       "  np.float64(0.23636363636363641),\n",
       "  np.float64(0.23695652173913048),\n",
       "  np.float64(0.10613199329137281),\n",
       "  np.float64(1.161022111125348),\n",
       "  np.float64(1.29647549715909))]"
      ]
     },
     "execution_count": 66,
     "metadata": {},
     "output_type": "execute_result"
    }
   ],
   "source": [
    "setosa_stats"
   ]
  },
  {
   "cell_type": "code",
   "execution_count": 67,
   "metadata": {},
   "outputs": [
    {
     "data": {
      "text/plain": [
       "[(np.float64(5.935999999999999),\n",
       "  np.float64(5.9363636363636365),\n",
       "  np.float64(5.934782608695652),\n",
       "  np.float64(0.5109833656783751),\n",
       "  np.float64(0.10218956951841443),\n",
       "  np.float64(-0.5988273407672811)),\n",
       " (np.float64(2.7700000000000005),\n",
       "  np.float64(2.777272727272727),\n",
       "  np.float64(2.7739130434782604),\n",
       "  np.float64(0.31064449134018135),\n",
       "  np.float64(-0.3518674965401781),\n",
       "  np.float64(-0.4482718999167745)),\n",
       " (np.float64(4.26),\n",
       "  np.float64(4.281818181818182),\n",
       "  np.float64(4.273913043478261),\n",
       "  np.float64(0.4651881339845203),\n",
       "  np.float64(-0.5881586743962585),\n",
       "  np.float64(-0.07440182314533761)),\n",
       " (np.float64(1.3259999999999998),\n",
       "  np.float64(1.3227272727272728),\n",
       "  np.float64(1.3217391304347827),\n",
       "  np.float64(0.19576516544063705),\n",
       "  np.float64(-0.030236304298168794),\n",
       "  np.float64(-0.48783258702455035))]"
      ]
     },
     "execution_count": 67,
     "metadata": {},
     "output_type": "execute_result"
    }
   ],
   "source": [
    "versicolor_stats"
   ]
  },
  {
   "cell_type": "code",
   "execution_count": 68,
   "metadata": {},
   "outputs": [
    {
     "data": {
      "text/plain": [
       "[(np.float64(6.587999999999999),\n",
       "  np.float64(6.588636363636363),\n",
       "  np.float64(6.593478260869564),\n",
       "  np.float64(0.6294886813914926),\n",
       "  np.float64(0.11444474247296789),\n",
       "  np.float64(-0.08794223159166314)),\n",
       " (np.float64(2.974),\n",
       "  np.float64(2.961363636363636),\n",
       "  np.float64(2.965217391304347),\n",
       "  np.float64(0.31925538366643086),\n",
       "  np.float64(0.35487781319939143),\n",
       "  np.float64(0.519765935495565)),\n",
       " (np.float64(5.552),\n",
       "  np.float64(5.527272727272727),\n",
       "  np.float64(5.53695652173913),\n",
       "  np.float64(0.546347874526844),\n",
       "  np.float64(0.5328219357082351),\n",
       "  np.float64(-0.25647236234660253)),\n",
       " (np.float64(2.026),\n",
       "  np.float64(2.031818181818182),\n",
       "  np.float64(2.0304347826086957),\n",
       "  np.float64(0.2718896835115301),\n",
       "  np.float64(-0.12555979315824958),\n",
       "  np.float64(-0.6613480055552245))]"
      ]
     },
     "execution_count": 68,
     "metadata": {},
     "output_type": "execute_result"
    }
   ],
   "source": [
    "virginica_stats"
   ]
  },
  {
   "cell_type": "markdown",
   "metadata": {},
   "source": []
  }
 ],
 "metadata": {
  "kernelspec": {
   "display_name": ".venv",
   "language": "python",
   "name": "python3"
  },
  "language_info": {
   "codemirror_mode": {
    "name": "ipython",
    "version": 3
   },
   "file_extension": ".py",
   "mimetype": "text/x-python",
   "name": "python",
   "nbconvert_exporter": "python",
   "pygments_lexer": "ipython3",
   "version": "3.12.3"
  }
 },
 "nbformat": 4,
 "nbformat_minor": 2
}
