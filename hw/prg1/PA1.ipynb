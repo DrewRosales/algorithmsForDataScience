{
 "cells": [
  {
   "cell_type": "markdown",
   "metadata": {},
   "source": [
    "# Programming Assignment 1\n",
    "#### Drew Rosales"
   ]
  },
  {
   "cell_type": "markdown",
   "metadata": {},
   "source": [
    "## 1. Data Analysis"
   ]
  },
  {
   "cell_type": "code",
   "execution_count": 2,
   "metadata": {},
   "outputs": [],
   "source": [
    "import numpy as np\n",
    "import pandas as pd\n",
    "from scipy.stats import kurtosis, skew"
   ]
  },
  {
   "cell_type": "markdown",
   "metadata": {},
   "source": [
    "First, let's look the dataset into a pandas dataframe and view the contents"
   ]
  },
  {
   "cell_type": "code",
   "execution_count": 3,
   "metadata": {},
   "outputs": [
    {
     "data": {
      "text/html": [
       "<div>\n",
       "<style scoped>\n",
       "    .dataframe tbody tr th:only-of-type {\n",
       "        vertical-align: middle;\n",
       "    }\n",
       "\n",
       "    .dataframe tbody tr th {\n",
       "        vertical-align: top;\n",
       "    }\n",
       "\n",
       "    .dataframe thead th {\n",
       "        text-align: right;\n",
       "    }\n",
       "</style>\n",
       "<table border=\"1\" class=\"dataframe\">\n",
       "  <thead>\n",
       "    <tr style=\"text-align: right;\">\n",
       "      <th></th>\n",
       "      <th>sepal_length</th>\n",
       "      <th>sepal_width</th>\n",
       "      <th>petal_length</th>\n",
       "      <th>petal_width</th>\n",
       "      <th>species</th>\n",
       "    </tr>\n",
       "  </thead>\n",
       "  <tbody>\n",
       "    <tr>\n",
       "      <th>0</th>\n",
       "      <td>5.1</td>\n",
       "      <td>3.5</td>\n",
       "      <td>1.4</td>\n",
       "      <td>0.2</td>\n",
       "      <td>setosa</td>\n",
       "    </tr>\n",
       "    <tr>\n",
       "      <th>1</th>\n",
       "      <td>4.9</td>\n",
       "      <td>3.0</td>\n",
       "      <td>1.4</td>\n",
       "      <td>0.2</td>\n",
       "      <td>setosa</td>\n",
       "    </tr>\n",
       "    <tr>\n",
       "      <th>2</th>\n",
       "      <td>4.7</td>\n",
       "      <td>3.2</td>\n",
       "      <td>1.3</td>\n",
       "      <td>0.2</td>\n",
       "      <td>setosa</td>\n",
       "    </tr>\n",
       "    <tr>\n",
       "      <th>3</th>\n",
       "      <td>4.6</td>\n",
       "      <td>3.1</td>\n",
       "      <td>1.5</td>\n",
       "      <td>0.2</td>\n",
       "      <td>setosa</td>\n",
       "    </tr>\n",
       "    <tr>\n",
       "      <th>4</th>\n",
       "      <td>5.0</td>\n",
       "      <td>3.6</td>\n",
       "      <td>1.4</td>\n",
       "      <td>0.2</td>\n",
       "      <td>setosa</td>\n",
       "    </tr>\n",
       "    <tr>\n",
       "      <th>...</th>\n",
       "      <td>...</td>\n",
       "      <td>...</td>\n",
       "      <td>...</td>\n",
       "      <td>...</td>\n",
       "      <td>...</td>\n",
       "    </tr>\n",
       "    <tr>\n",
       "      <th>145</th>\n",
       "      <td>6.7</td>\n",
       "      <td>3.0</td>\n",
       "      <td>5.2</td>\n",
       "      <td>2.3</td>\n",
       "      <td>virginica</td>\n",
       "    </tr>\n",
       "    <tr>\n",
       "      <th>146</th>\n",
       "      <td>6.3</td>\n",
       "      <td>2.5</td>\n",
       "      <td>5.0</td>\n",
       "      <td>1.9</td>\n",
       "      <td>virginica</td>\n",
       "    </tr>\n",
       "    <tr>\n",
       "      <th>147</th>\n",
       "      <td>6.5</td>\n",
       "      <td>3.0</td>\n",
       "      <td>5.2</td>\n",
       "      <td>2.0</td>\n",
       "      <td>virginica</td>\n",
       "    </tr>\n",
       "    <tr>\n",
       "      <th>148</th>\n",
       "      <td>6.2</td>\n",
       "      <td>3.4</td>\n",
       "      <td>5.4</td>\n",
       "      <td>2.3</td>\n",
       "      <td>virginica</td>\n",
       "    </tr>\n",
       "    <tr>\n",
       "      <th>149</th>\n",
       "      <td>5.9</td>\n",
       "      <td>3.0</td>\n",
       "      <td>5.1</td>\n",
       "      <td>1.8</td>\n",
       "      <td>virginica</td>\n",
       "    </tr>\n",
       "  </tbody>\n",
       "</table>\n",
       "<p>150 rows × 5 columns</p>\n",
       "</div>"
      ],
      "text/plain": [
       "     sepal_length  sepal_width  petal_length  petal_width    species\n",
       "0             5.1          3.5           1.4          0.2     setosa\n",
       "1             4.9          3.0           1.4          0.2     setosa\n",
       "2             4.7          3.2           1.3          0.2     setosa\n",
       "3             4.6          3.1           1.5          0.2     setosa\n",
       "4             5.0          3.6           1.4          0.2     setosa\n",
       "..            ...          ...           ...          ...        ...\n",
       "145           6.7          3.0           5.2          2.3  virginica\n",
       "146           6.3          2.5           5.0          1.9  virginica\n",
       "147           6.5          3.0           5.2          2.0  virginica\n",
       "148           6.2          3.4           5.4          2.3  virginica\n",
       "149           5.9          3.0           5.1          1.8  virginica\n",
       "\n",
       "[150 rows x 5 columns]"
      ]
     },
     "execution_count": 3,
     "metadata": {},
     "output_type": "execute_result"
    }
   ],
   "source": [
    "iris_df = pd.read_csv(\"iris.csv\")\n",
    "iris_df"
   ]
  },
  {
   "cell_type": "markdown",
   "metadata": {},
   "source": [
    "### a) Perform test statistics for each feature and class: minimum, maximum, mean, trimmed mean, alpha trimmed mean, standard deviation, skewness, and kurtosis"
   ]
  },
  {
   "cell_type": "code",
   "execution_count": 24,
   "metadata": {},
   "outputs": [],
   "source": [
    "def create_test_statistics(x, p, alpha):\n",
    "    n = len(x)\n",
    "    x = list(sorted(x))\n",
    "    minimum = np.min(x)\n",
    "    maximum = np.max(x)\n",
    "    mu = np.mean(x, axis=0) # column-wise mean\n",
    "    mu_trim = np.mean(x[p:-p], axis=0)\n",
    "    mu_alpha = np.mean(x[int(np.floor(n*alpha)) :-int(np.floor(n*alpha))], axis=0) \n",
    "    sigma = np.std(x, axis=0)\n",
    "    skewness = skew(x, axis=0)\n",
    "    kurt = kurtosis(x, axis=0)\n",
    "    return (minimum, maximum, mu, mu_trim, mu_alpha, sigma, skewness, kurt)\n",
    "    "
   ]
  },
  {
   "cell_type": "markdown",
   "metadata": {},
   "source": [
    "Separate per class into `setosa`, `virginica` and `versicolor` for each of the features"
   ]
  },
  {
   "cell_type": "code",
   "execution_count": 25,
   "metadata": {},
   "outputs": [
    {
     "data": {
      "text/plain": [
       "100    2.5\n",
       "101    1.9\n",
       "102    2.1\n",
       "103    1.8\n",
       "104    2.2\n",
       "105    2.1\n",
       "106    1.7\n",
       "107    1.8\n",
       "108    1.8\n",
       "109    2.5\n",
       "110    2.0\n",
       "111    1.9\n",
       "112    2.1\n",
       "113    2.0\n",
       "114    2.4\n",
       "115    2.3\n",
       "116    1.8\n",
       "117    2.2\n",
       "118    2.3\n",
       "119    1.5\n",
       "120    2.3\n",
       "121    2.0\n",
       "122    2.0\n",
       "123    1.8\n",
       "124    2.1\n",
       "125    1.8\n",
       "126    1.8\n",
       "127    1.8\n",
       "128    2.1\n",
       "129    1.6\n",
       "130    1.9\n",
       "131    2.0\n",
       "132    2.2\n",
       "133    1.5\n",
       "134    1.4\n",
       "135    2.3\n",
       "136    2.4\n",
       "137    1.8\n",
       "138    1.8\n",
       "139    2.1\n",
       "140    2.4\n",
       "141    2.3\n",
       "142    1.9\n",
       "143    2.3\n",
       "144    2.5\n",
       "145    2.3\n",
       "146    1.9\n",
       "147    2.0\n",
       "148    2.3\n",
       "149    1.8\n",
       "Name: petal_width, dtype: float64"
      ]
     },
     "execution_count": 25,
     "metadata": {},
     "output_type": "execute_result"
    }
   ],
   "source": [
    "iris_table = [[iris_df[feature].loc[iris_df[\"species\"] == class_name] for class_name in [\"setosa\", \"versicolor\", \"virginica\"]] for feature in [\"sepal_length\", \"sepal_width\", \"petal_length\", \"petal_width\"]]\n",
    "iris_table[3][2]"
   ]
  },
  {
   "cell_type": "markdown",
   "metadata": {},
   "source": [
    "`iris_table` is indexed first by `feature` such as `sepal_length`, it is then indexed by `class` like `setosa`. Above we see, `iris_table[3][2]` this notates `petal_width` for the `virginica` class"
   ]
  },
  {
   "cell_type": "markdown",
   "metadata": {},
   "source": [
    "Each test statistic is represented as a tuple in the following format: `(minimum, maximum, mean, trimmed mean, alpha trimmed mean, standard deviation, skewness, kurtosis)`. A tuple is placed in a list in the following order for the features of the three species: `[sepal_length, sepal_width, petal_length, petal_width]`."
   ]
  },
  {
   "cell_type": "code",
   "execution_count": 27,
   "metadata": {},
   "outputs": [
    {
     "data": {
      "text/plain": [
       "[(np.float64(4.3),\n",
       "  np.float64(5.8),\n",
       "  np.float64(5.006),\n",
       "  np.float64(5.0024999999999995),\n",
       "  np.float64(4.999999999999999),\n",
       "  np.float64(0.3489469873777391),\n",
       "  np.float64(0.11645392749203061),\n",
       "  np.float64(-0.34576467558246327)),\n",
       " (np.float64(4.9),\n",
       "  np.float64(7.0),\n",
       "  np.float64(5.935999999999999),\n",
       "  np.float64(5.9375),\n",
       "  np.float64(5.910000000000001),\n",
       "  np.float64(0.5109833656783751),\n",
       "  np.float64(0.10218956951841443),\n",
       "  np.float64(-0.5988273407672811)),\n",
       " (np.float64(4.9),\n",
       "  np.float64(7.9),\n",
       "  np.float64(6.587999999999999),\n",
       "  np.float64(6.572500000000001),\n",
       "  np.float64(6.546666666666668),\n",
       "  np.float64(0.6294886813914926),\n",
       "  np.float64(0.11444474247296789),\n",
       "  np.float64(-0.08794223159166314))]"
      ]
     },
     "execution_count": 27,
     "metadata": {},
     "output_type": "execute_result"
    }
   ],
   "source": [
    "iris_stats = [[create_test_statistics(class_vector.values, 5, 0.2) for class_vector in feature_vector] for feature_vector in iris_table]\n",
    "iris_stats[0]"
   ]
  },
  {
   "cell_type": "markdown",
   "metadata": {},
   "source": [
    "Here we trimmed the first and last values since `p=5` and also first and last 5% since `alpha=0.02`. Above we see `iris_stats[0]` which represents the test statistics for `sepal_length` under all three classes"
   ]
  },
  {
   "cell_type": "markdown",
   "metadata": {},
   "source": [
    "### b) Create Analysis and an explanation for each test statistic. What conclusions can you make based on this data?"
   ]
  },
  {
   "cell_type": "markdown",
   "metadata": {},
   "source": [
    "The first two values in statistics are `minimum` and `maximum`, which indicate the smallest and largest values in the vector respectively. For `sepal_length` above we can see that `setosa` has the smallest range with `[4.3, 5.8]` while `versicolor` and `virginica` have the similar range of `[4.9, 7.0]` and `[4.9, 7.9]` respectively. Next we can look at the next three statistics: `mean`, `trimmed mean`, and `alpha trimmed mean`. These show the average values within the features but `trimmed mean` will disregard the smallest and largest `p` values in the feature. Similarly, `alpha trimmed mean` will take a percentage off the extremes of the feature vector. Given our features are `50 x 1` then `n=50`. With a value of `alpha=0.05`, 20% of 50 yields 10 observations trimmed off the front and back. The differences in these variants of means can be an indicator of how centered our observations are relative to the mean. If there is a particular large value and/or outlier then the mean may be skewed to the left. Similarly, if there is a small value/outlier then the observation may be skewed right. My trimming the mean we expect to get closer to the median of the feature, which is more resilient to outliers. Within the `sepal_length` feature for the `setosa` class we can see the mean holds at `5.006` while the trimmed mean (5 values off either side) yields `5.002`. This gives us an indicator that the trimmed values do not skew the overal feature vector since there is only a difference in the order of `10^-3`. We can see that the `alpha trimmed mean` for this feature and class also holds a similar results but to a lesser magnitude, `10^-1`."
   ]
  },
  {
   "cell_type": "markdown",
   "metadata": {},
   "source": []
  }
 ],
 "metadata": {
  "kernelspec": {
   "display_name": ".venv",
   "language": "python",
   "name": "python3"
  },
  "language_info": {
   "codemirror_mode": {
    "name": "ipython",
    "version": 3
   },
   "file_extension": ".py",
   "mimetype": "text/x-python",
   "name": "python",
   "nbconvert_exporter": "python",
   "pygments_lexer": "ipython3",
   "version": "3.10.12"
  }
 },
 "nbformat": 4,
 "nbformat_minor": 2
}
