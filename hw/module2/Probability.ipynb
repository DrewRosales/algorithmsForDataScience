{
 "cells": [
  {
   "cell_type": "markdown",
   "metadata": {},
   "source": [
    "# Module 2 - Activity"
   ]
  },
  {
   "cell_type": "markdown",
   "metadata": {},
   "source": [
    "During this module we discussed the covariance matrix, which is a matrix that describes the variance and covariance between multiple variables. \n",
    "\n",
    "- Reference the lecture notes for more details on the covariance matrix.\n",
    "\n",
    "In this activity you will be creating a covariance matrix, without the use of any built in method, for the following data set."
   ]
  },
  {
   "cell_type": "code",
   "execution_count": 2,
   "metadata": {},
   "outputs": [
    {
     "name": "stdout",
     "output_type": "stream",
     "text": [
      "Data shape: (150, 4)\n",
      "Labels shape: (150,)\n",
      "First 5 rows of data:\n",
      " [[5.1 3.5 1.4 0.2]\n",
      " [4.9 3.  1.4 0.2]\n",
      " [4.7 3.2 1.3 0.2]\n",
      " [4.6 3.1 1.5 0.2]\n",
      " [5.  3.6 1.4 0.2]]\n",
      "First 5 labels: [0 0 0 0 0]\n",
      "[[5.1 4.9 4.7 4.6 5. ]\n",
      " [3.5 3.  3.2 3.1 3.6]\n",
      " [1.4 1.4 1.3 1.5 1.4]\n",
      " [0.2 0.2 0.2 0.2 0.2]]\n"
     ]
    }
   ],
   "source": [
    "from sklearn.datasets import load_iris\n",
    "\n",
    "# Load the Iris dataset\n",
    "iris = load_iris()\n",
    "\n",
    "# iris is a Bunch object, similar to a dictionary, containing data and metadata\n",
    "# The features (measurements) of the Iris dataset are stored in 'data'\n",
    "iris_data = iris.data\n",
    "\n",
    "# The labels (species of each instance) are stored in 'target'\n",
    "iris_labels = iris.target\n",
    "\n",
    "# The names of the features and labels are also stored\n",
    "feature_names = iris.feature_names\n",
    "label_names = iris.target_names\n",
    "\n",
    "# To see the shape of the dataset\n",
    "print(\"Data shape:\", iris_data.shape)  # e.g., (150, 4)\n",
    "print(\"Labels shape:\", iris_labels.shape)  # e.g., (150,)\n",
    "\n",
    "# If you want to see the first few entries\n",
    "print(\"First 5 rows of data:\\n\", iris_data[:5])\n",
    "print(\"First 5 labels:\", iris_labels[:5])\n",
    "print(iris_data[:5].T)\n"
   ]
  },
  {
   "cell_type": "code",
   "execution_count": 32,
   "metadata": {},
   "outputs": [],
   "source": [
    "# Implementation of creating the covariance matrix\n",
    "import statistics\n",
    "def create_covariance_matrix(mat):\n",
    "    mat_mean = sum(mat) / len(mat);\n",
    "    mean_centered =(mat - mat_mean);\n",
    "    return (1/(len(mat)-1)) * sum(mean_centered @ mean_centered.T)"
   ]
  },
  {
   "cell_type": "code",
   "execution_count": 34,
   "metadata": {},
   "outputs": [
    {
     "data": {
      "text/plain": [
       "array([ 7.81775837e-15,  6.18446383e-15,  1.01663644e-14,  7.57037982e-15,\n",
       "        8.61652286e-15,  6.09803036e-15,  8.61354239e-15,  8.44067545e-15,\n",
       "        1.02736611e-14,  8.55095264e-15,  5.04294593e-15,  7.55249703e-15,\n",
       "        1.15820850e-14,  8.30953501e-15,  5.67480440e-15,  4.57501300e-15,\n",
       "        8.07109785e-15,  8.82515537e-15,  5.27840262e-15,  6.76565441e-15,\n",
       "        7.40049334e-15,  6.26195591e-15,  1.09144610e-14,  6.82228323e-15,\n",
       "        6.21724894e-15,  7.50480960e-15,  8.15157040e-15,  5.67778486e-15,\n",
       "        6.56000235e-15,  8.16349225e-15,  8.16647272e-15,  7.29021616e-15,\n",
       "        6.18446383e-15,  7.53759471e-15,  8.31847641e-15,  8.94139349e-15,\n",
       "        6.17552243e-15,  7.93101602e-15,  9.26328365e-15,  6.50933446e-15,\n",
       "        6.85804880e-15,  9.13512368e-15,  8.87284280e-15,  6.70902558e-15,\n",
       "        5.40656260e-15,  8.47048010e-15,  6.99216971e-15,  5.89833924e-15,\n",
       "        6.37819402e-15,  9.40634595e-15, -4.18308192e-15, -3.23231375e-15,\n",
       "       -4.88796177e-15,  3.55420391e-16, -2.94767939e-15, -1.59007781e-15,\n",
       "       -3.50949694e-15,  3.19803840e-15, -4.00723451e-15,  5.99445922e-16,\n",
       "        2.71222269e-15, -1.54611596e-15,  1.17355790e-16, -2.95811101e-15,\n",
       "        7.49027984e-16, -3.06242727e-15, -1.53940991e-15, -4.31049678e-16,\n",
       "       -2.13699304e-15,  4.35706653e-16, -3.50055555e-15, -8.51295172e-16,\n",
       "       -3.42157324e-15, -2.36797904e-15, -2.54978738e-15, -2.82697057e-15,\n",
       "       -3.70471737e-15, -5.01612175e-15, -2.85677522e-15,  1.50364434e-15,\n",
       "        9.11568081e-16,  1.21547068e-15,  1.97455773e-17, -3.42455371e-15,\n",
       "       -1.85980985e-15, -2.70775199e-15, -4.47516744e-15, -1.67129547e-15,\n",
       "       -8.55393310e-16,  9.64925380e-17, -1.03198583e-15, -2.29346743e-15,\n",
       "       -2.36946927e-16,  2.80536221e-15, -8.21117969e-16, -9.13512368e-16,\n",
       "       -1.05061373e-15, -2.03789260e-15,  3.88056477e-15, -5.93112435e-16,\n",
       "       -7.95784020e-15, -3.70769783e-15, -7.91909416e-15, -6.06524525e-15,\n",
       "       -8.06215646e-15, -9.30501016e-15, -6.63153350e-16, -9.56431057e-15,\n",
       "       -6.90275577e-15, -1.02945244e-14, -5.05486778e-15, -4.25908376e-15,\n",
       "       -6.25599498e-15, -2.26217255e-15, -4.07727543e-15, -5.90131970e-15,\n",
       "       -6.12187407e-15, -1.17191864e-14, -1.15761241e-14, -2.77481245e-15,\n",
       "       -7.47202449e-15, -3.20697980e-15, -1.03839383e-14, -3.58996948e-15,\n",
       "       -6.72988883e-15, -7.18888036e-15, -2.99387659e-15, -4.13986518e-15,\n",
       "       -4.42897024e-15, -7.57336028e-15, -8.28569130e-15, -1.12601949e-14,\n",
       "       -7.64191097e-15, -4.00276382e-15, -5.32609005e-15, -9.20665483e-15,\n",
       "       -6.61961164e-15, -5.81488623e-15, -3.51098718e-15, -5.78508159e-15,\n",
       "       -6.84612695e-15, -5.17706683e-15, -3.70769783e-15, -6.38415495e-15,\n",
       "       -6.06524525e-15, -6.02053828e-15, -3.35898349e-15, -5.19196915e-15,\n",
       "       -5.53174210e-15, -4.64654415e-15])"
      ]
     },
     "execution_count": 34,
     "metadata": {},
     "output_type": "execute_result"
    }
   ],
   "source": [
    "cov = create_covariance_matrix(iris_data)\n",
    "cov"
   ]
  },
  {
   "cell_type": "markdown",
   "metadata": {},
   "source": [
    "Please add your Jupyter Notebook to the discussion board found under Module 2. You are encouraged to review other students' submissions to check and discuss differences in your approaches. "
   ]
  },
  {
   "cell_type": "markdown",
   "metadata": {},
   "source": []
  }
 ],
 "metadata": {
  "kernelspec": {
   "display_name": "en-685-621",
   "language": "python",
   "name": "python3"
  },
  "language_info": {
   "codemirror_mode": {
    "name": "ipython",
    "version": 3
   },
   "file_extension": ".py",
   "mimetype": "text/x-python",
   "name": "python",
   "nbconvert_exporter": "python",
   "pygments_lexer": "ipython3",
   "version": "3.10.12"
  }
 },
 "nbformat": 4,
 "nbformat_minor": 2
}
