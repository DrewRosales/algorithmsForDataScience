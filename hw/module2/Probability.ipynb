{
 "cells": [
  {
   "cell_type": "markdown",
   "metadata": {},
   "source": [
    "# Module 2 - Activity"
   ]
  },
  {
   "cell_type": "markdown",
   "metadata": {},
   "source": [
    "During this module we discussed the covariance matrix, which is a matrix that describes the variance and covariance between multiple variables. \n",
    "\n",
    "- Reference the lecture notes for more details on the covariance matrix.\n",
    "\n",
    "In this activity you will be creating a covariance matrix, without the use of any built in method, for the following data set."
   ]
  },
  {
   "cell_type": "code",
   "execution_count": 84,
   "metadata": {},
   "outputs": [
    {
     "name": "stdout",
     "output_type": "stream",
     "text": [
      "Data shape: (150, 4)\n",
      "Labels shape: (150,)\n",
      "First 5 rows of data:\n",
      " [[5.1 3.5 1.4 0.2]\n",
      " [4.9 3.  1.4 0.2]\n",
      " [4.7 3.2 1.3 0.2]\n",
      " [4.6 3.1 1.5 0.2]\n",
      " [5.  3.6 1.4 0.2]]\n",
      "First 5 labels: [0 0 0 0 0]\n",
      "[[5.1 4.9 4.7 4.6 5. ]\n",
      " [3.5 3.  3.2 3.1 3.6]\n",
      " [1.4 1.4 1.3 1.5 1.4]\n",
      " [0.2 0.2 0.2 0.2 0.2]]\n"
     ]
    }
   ],
   "source": [
    "from sklearn.datasets import load_iris\n",
    "\n",
    "# Load the Iris dataset\n",
    "iris = load_iris()\n",
    "\n",
    "# iris is a Bunch object, similar to a dictionary, containing data and metadata\n",
    "# The features (measurements) of the Iris dataset are stored in 'data'\n",
    "iris_data = iris.data\n",
    "\n",
    "# The labels (species of each instance) are stored in 'target'\n",
    "iris_labels = iris.target\n",
    "\n",
    "# The names of the features and labels are also stored\n",
    "feature_names = iris.feature_names\n",
    "label_names = iris.target_names\n",
    "\n",
    "# To see the shape of the dataset\n",
    "print(\"Data shape:\", iris_data.shape)  # e.g., (150, 4)\n",
    "print(\"Labels shape:\", iris_labels.shape)  # e.g., (150,)\n",
    "\n",
    "# If you want to see the first few entries\n",
    "print(\"First 5 rows of data:\\n\", iris_data[:5])\n",
    "print(\"First 5 labels:\", iris_labels[:5])\n",
    "print(iris_data[:5].T)\n"
   ]
  },
  {
   "cell_type": "markdown",
   "metadata": {},
   "source": [
    "Let's create a function that will generate the covariance given a matrix"
   ]
  },
  {
   "cell_type": "code",
   "execution_count": 85,
   "metadata": {},
   "outputs": [],
   "source": [
    "# Implementation of creating the covariance matrix\n",
    "import numpy as np\n",
    "def create_covariance_matrix(mat):\n",
    "    N = mat.shape[1]\n",
    "    mat_mean = np.mean(mat, axis=1, keepdims=True)\n",
    "    mean_centered =(mat - mat_mean)\n",
    "    return mean_centered @ mean_centered.T / (N-1)"
   ]
  },
  {
   "cell_type": "code",
   "execution_count": 86,
   "metadata": {},
   "outputs": [],
   "source": [
    "our_cov = create_covariance_matrix(iris_data)"
   ]
  },
  {
   "cell_type": "markdown",
   "metadata": {},
   "source": [
    "Let's check to see that `our_cov` is the same as the result of numpy's `np.cov`, the predefined method of calculating the covariance of a matrix "
   ]
  },
  {
   "cell_type": "code",
   "execution_count": 87,
   "metadata": {},
   "outputs": [
    {
     "data": {
      "text/plain": [
       "array([[0.0000000e+00, 0.0000000e+00, 0.0000000e+00, ..., 0.0000000e+00,\n",
       "        4.4408921e-16, 4.4408921e-16],\n",
       "       [0.0000000e+00, 0.0000000e+00, 0.0000000e+00, ..., 0.0000000e+00,\n",
       "        0.0000000e+00, 0.0000000e+00],\n",
       "       [0.0000000e+00, 0.0000000e+00, 0.0000000e+00, ..., 0.0000000e+00,\n",
       "        4.4408921e-16, 0.0000000e+00],\n",
       "       ...,\n",
       "       [0.0000000e+00, 0.0000000e+00, 0.0000000e+00, ..., 0.0000000e+00,\n",
       "        0.0000000e+00, 4.4408921e-16],\n",
       "       [4.4408921e-16, 0.0000000e+00, 4.4408921e-16, ..., 0.0000000e+00,\n",
       "        4.4408921e-16, 0.0000000e+00],\n",
       "       [4.4408921e-16, 0.0000000e+00, 0.0000000e+00, ..., 4.4408921e-16,\n",
       "        0.0000000e+00, 0.0000000e+00]])"
      ]
     },
     "execution_count": 87,
     "metadata": {},
     "output_type": "execute_result"
    }
   ],
   "source": [
    "our_cov - np.cov(iris_data)"
   ]
  },
  {
   "cell_type": "markdown",
   "metadata": {},
   "source": [
    "Looks like `our_cov` generated from `create_covariance_matrix` is the same as `np.cov` within numerical precision (1e-8). So, we successfully have an implementation of creating the covariance matrix."
   ]
  }
 ],
 "metadata": {
  "kernelspec": {
   "display_name": "en-685-621",
   "language": "python",
   "name": "python3"
  },
  "language_info": {
   "codemirror_mode": {
    "name": "ipython",
    "version": 3
   },
   "file_extension": ".py",
   "mimetype": "text/x-python",
   "name": "python",
   "nbconvert_exporter": "python",
   "pygments_lexer": "ipython3",
   "version": "3.10.12"
  }
 },
 "nbformat": 4,
 "nbformat_minor": 2
}
