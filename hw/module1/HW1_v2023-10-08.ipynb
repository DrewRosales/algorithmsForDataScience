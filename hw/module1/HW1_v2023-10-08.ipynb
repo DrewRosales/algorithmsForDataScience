{
 "cells": [
  {
   "cell_type": "markdown",
   "metadata": {},
   "source": [
    "## <h3 align=\"center\"> __Johns Hopkins University__</h3>\n",
    "## <h3 align=\"center\">__Whiting School of Engineering__</h3>\n",
    "## <h3 align=\"center\">__Engineering for Professionals__</h3>\n",
    "## <h3 align=\"center\">__685.621 Algorithms for Data Science__</h3>\n",
    "## <h3 align=\"center\">__Homework 1__</h3>\n",
    "## <h3 align=\"center\">__Assigned at the start of Module 1,2__</h3>\n",
    "## <h3 align=\"center\">__Due at the end of Module 1,2__</h3><br>\n",
    "## <h3 align=\"center\">__Total Points 100/100__</h3>\n",
    "Class, the below is a standard set of instructions for each HW, in this assignment groups will be set up for collaboration. We will use this HW assignment as a dry run for HW2, HW3, HW4 and HW5 as well as discussions. <br><br>\n",
    "All members of the collaboration group are expected to participate fully in solving collaborative problems and sub-problems. Note, however, that each student is required to write up their solutions individually for all problems in their respective submission. Furthermore, to receive credit for a collaboration problem, each student in the collaboration group must actively and substantially contribute to the collaboration. This implies that no single student should post a complete solution to any problem at the beginning of the collaboration process."
   ]
  },
  {
   "cell_type": "markdown",
   "metadata": {},
   "source": [
    "# __1. Module 1 - Chapter 10, 11, 12 Parts a - d Note this is a Collaborative Problem__<br>\n",
    "100 Points Total<br><br>\n",
    "Python has four inbuilt data structures as follows:<br>\n",
    "1. Lists\n",
    "2. Dictionary\n",
    "3. Tuple\n",
    "4. Set <br>\n",
    "\n",
    "For each of these data structures use the Iris data set and provide the following:"
   ]
  },
  {
   "cell_type": "markdown",
   "metadata": {},
   "source": [
    "# (a) [25 points] Lists\n",
    "- Define a \"list\" as comprehensively and accurately as you would find in a dictionary. Provide a clear and concise explanation, covering its essential meaning, characteristics, and any relevant context.\n",
    "- Create a list in Python using the first observation, all features and label from the Iris data set\n",
    "- Show the output with a print statement\n",
    "- Add the second observation of the Iris data set to your list\n",
    "- Show the output of your list with a print statement"
   ]
  },
  {
   "cell_type": "markdown",
   "metadata": {},
   "source": [
    "## Type definition here ##"
   ]
  },
  {
   "cell_type": "code",
   "execution_count": 1,
   "metadata": {},
   "outputs": [],
   "source": [
    "## import libraries\n",
    "\n",
    "## import iris dataset\n"
   ]
  },
  {
   "cell_type": "code",
   "execution_count": 2,
   "metadata": {},
   "outputs": [],
   "source": [
    "## Type code here for the problem ##\n"
   ]
  },
  {
   "cell_type": "markdown",
   "metadata": {},
   "source": [
    "# (b) [25 points] Dictionary\n",
    "- Define a \"dictionary\" as comprehensively and accurately as you would find in a dictionary. Provide a clear and concise explanation, covering its essential meaning, characteristics, and any relevant context.\n",
    "- Create a dictionary in Python using the classes of Setosa, Versicolor and Virginica, allow elements (2 observations per class) to be added\n",
    "- Show the output with a print statement\n",
    "- Add a third observation of the Iris data set for each class\n",
    "- Show the output of your with a print statement"
   ]
  },
  {
   "cell_type": "markdown",
   "metadata": {},
   "source": [
    "## Type definition here ##"
   ]
  },
  {
   "cell_type": "code",
   "execution_count": 3,
   "metadata": {},
   "outputs": [],
   "source": [
    "## Type code here for the problem ##\n"
   ]
  },
  {
   "cell_type": "markdown",
   "metadata": {},
   "source": [
    "# (c) [25 points] Tuple\n",
    "- Define a \"tuple\"\" as comprehensively and accurately as you would find in a dictionary. Provide a clear and concise explanation, covering its essential meaning, characteristics, and any relevant context.\n",
    "- Create a tuple in Python using the classes of Setosa, Versicolor and Virginica, allow elements ( start with 2 observations and 2 features per class) to be added\n",
    "- Show the output with a print statement\n",
    "- Add a third observation and a third feature of the Iris data set for each class\n",
    "- Show the output of your with a print statement"
   ]
  },
  {
   "cell_type": "markdown",
   "metadata": {},
   "source": [
    "## Type definition here ##"
   ]
  },
  {
   "cell_type": "code",
   "execution_count": 4,
   "metadata": {},
   "outputs": [],
   "source": [
    "## Type code for the problem here ##\n"
   ]
  },
  {
   "cell_type": "markdown",
   "metadata": {},
   "source": [
    "# (d) [25 points] Set\n",
    "- Define a \"set\"\" as comprehensively and accurately as you would find in a dictionary. Provide a clear and concise explanation, covering its essential meaning, characteristics, and any relevant context.\n",
    "- Create a set (1st set) in Python using the first observation of the Setosa class allowing elements to be added\n",
    "- Show the output with a print statement\n",
    "- Create another set (2nd set) by adding the second observation of the Setosa class \n",
    "- Show the output of the following operations with the 1st set and 2nd set with a print statement\n",
    "    * Difference\n",
    "    * Intersection\n",
    "    * Union"
   ]
  },
  {
   "cell_type": "markdown",
   "metadata": {},
   "source": [
    "## Type definition here"
   ]
  },
  {
   "cell_type": "code",
   "execution_count": 5,
   "metadata": {},
   "outputs": [],
   "source": [
    "## Type the code for the problem here ##"
   ]
  },
  {
   "cell_type": "markdown",
   "metadata": {},
   "source": [
    "# References\n",
    "[1] Thomas H. Cormen, Charles E. Leiserson, Ronald L. Rivest, and Clifford Stein. Introduction to\n",
    "Algorithms, Third Edition. MIT Press and McGraw-Hill, 2009. ISBN-13: 978-0-262-03384-8<br><br>\n",
    "[2] Thomas H. Cormen. The clrscode and clrscode3e packages for LaTeX2e, Retrived Jan 2010,\n",
    "http://www.cs.dartmouth.edu/ thc/clrscode/<br><br>\n",
    "[3] simpleilearn, Top 90+ Data Science Interview Questions and Answers: Basic to Technical,\n",
    "https://www.simplilearn.com/tutorials/data-science-tutorial/data-science-interview-questions<br><br>\n",
    "[4] simpleilearn, 22 Artificial Intelligence Interview Questions to Prepare,\n",
    "https://www.simplilearn.com/artificial-intelligence-ai-interview-questions-and-answers-article<br><br>\n",
    "[5] Python, Data Structures, https://docs.python.org/3/tutorial/datastructures.html"
   ]
  }
 ],
 "metadata": {
  "interpreter": {
   "hash": "aee8b7b246df8f9039afb4144a1f6fd8d2ca17a180786b69acc140d282b71a49"
  },
  "kernelspec": {
   "display_name": "Python 3 (ipykernel)",
   "language": "python",
   "name": "python3"
  },
  "language_info": {
   "codemirror_mode": {
    "name": "ipython",
    "version": 3
   },
   "file_extension": ".py",
   "mimetype": "text/x-python",
   "name": "python",
   "nbconvert_exporter": "python",
   "pygments_lexer": "ipython3",
   "version": "3.12.3"
  }
 },
 "nbformat": 4,
 "nbformat_minor": 4
}
