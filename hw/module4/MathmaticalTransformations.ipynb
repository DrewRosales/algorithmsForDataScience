{
 "cells": [
  {
   "cell_type": "markdown",
   "metadata": {},
   "source": [
    "# Module 4 - Activity"
   ]
  },
  {
   "cell_type": "markdown",
   "metadata": {},
   "source": [
    "During this module we discuss various mathematical transformations. Two that we will delve into a bit deeper and use for the remainder of the course will be the Discrete Cosine Transform (DCT) and Fast Fourier Transform (FFT). \n",
    "\n",
    "* Reference the lecture notes for more details on the Discrete Cosine Transform (DCT) and Fast Fourier Transform (FFT).\n",
    "\n",
    "In this activity you will be using the DCT and FFT and it's associated frequency masks to transform an image (the number 8) into it's high frequency DCT components and then separately it's low frequency FFT components. You will then display those components. Lastly, you will calculate the inverse of the components to display  the image using only those components. "
   ]
  },
  {
   "cell_type": "code",
   "execution_count": 2,
   "metadata": {},
   "outputs": [],
   "source": [
    "import numpy as np\n",
    "import pandas as pd\n",
    "import matplotlib.pyplot as plt"
   ]
  },
  {
   "cell_type": "markdown",
   "metadata": {},
   "source": [
    "Frequency Masks for Discrete Cosine Transform"
   ]
  },
  {
   "cell_type": "code",
   "execution_count": 3,
   "metadata": {},
   "outputs": [],
   "source": [
    "dct_lowfreq_mask = np.array([[0,1,1,1,1,1,1,1,1,1,1,1,1,1,1,0,0,0,0,0,0,0,0,0,0,0,0,0],\n",
    "                    [1,1,1,1,1,1,1,1,1,1,1,1,1,1,1,0,0,0,0,0,0,0,0,0,0,0,0,0],\n",
    "                    [1,1,1,1,1,1,1,1,1,1,1,1,1,1,1,0,0,0,0,0,0,0,0,0,0,0,0,0],\n",
    "                    [1,1,1,1,1,1,1,1,1,1,1,1,1,1,1,0,0,0,0,0,0,0,0,0,0,0,0,0],\n",
    "                    [1,1,1,1,1,1,1,1,1,1,1,1,1,1,1,0,0,0,0,0,0,0,0,0,0,0,0,0],\n",
    "                    [1,1,1,1,1,1,1,1,1,1,1,1,1,1,1,0,0,0,0,0,0,0,0,0,0,0,0,0],\n",
    "                    [1,1,1,1,1,1,1,1,1,1,1,1,1,1,0,0,0,0,0,0,0,0,0,0,0,0,0,0],\n",
    "                    [1,1,1,1,1,1,1,1,1,1,1,1,1,0,0,0,0,0,0,0,0,0,0,0,0,0,0,0],\n",
    "                    [1,1,1,1,1,1,1,1,1,1,1,1,0,0,0,0,0,0,0,0,0,0,0,0,0,0,0,0],\n",
    "                    [1,1,1,1,1,1,1,1,1,1,1,0,0,0,0,0,0,0,0,0,0,0,0,0,0,0,0,0],\n",
    "                    [1,1,1,1,1,1,1,1,1,1,0,0,0,0,0,0,0,0,0,0,0,0,0,0,0,0,0,0],\n",
    "                    [1,1,1,1,1,1,1,1,1,0,0,0,0,0,0,0,0,0,0,0,0,0,0,0,0,0,0,0],\n",
    "                    [1,1,1,1,1,1,1,1,0,0,0,0,0,0,0,0,0,0,0,0,0,0,0,0,0,0,0,0],\n",
    "                    [1,1,1,1,1,1,1,0,0,0,0,0,0,0,0,0,0,0,0,0,0,0,0,0,0,0,0,0],\n",
    "                    [1,1,1,1,1,0,0,0,0,0,0,0,0,0,0,0,0,0,0,0,0,0,0,0,0,0,0,0],\n",
    "                    [0,0,0,0,0,0,0,0,0,0,0,0,0,0,0,0,0,0,0,0,0,0,0,0,0,0,0,0],\n",
    "                    [0,0,0,0,0,0,0,0,0,0,0,0,0,0,0,0,0,0,0,0,0,0,0,0,0,0,0,0],\n",
    "                    [0,0,0,0,0,0,0,0,0,0,0,0,0,0,0,0,0,0,0,0,0,0,0,0,0,0,0,0],\n",
    "                    [0,0,0,0,0,0,0,0,0,0,0,0,0,0,0,0,0,0,0,0,0,0,0,0,0,0,0,0],\n",
    "                    [0,0,0,0,0,0,0,0,0,0,0,0,0,0,0,0,0,0,0,0,0,0,0,0,0,0,0,0],\n",
    "                    [0,0,0,0,0,0,0,0,0,0,0,0,0,0,0,0,0,0,0,0,0,0,0,0,0,0,0,0],\n",
    "                    [0,0,0,0,0,0,0,0,0,0,0,0,0,0,0,0,0,0,0,0,0,0,0,0,0,0,0,0],\n",
    "                    [0,0,0,0,0,0,0,0,0,0,0,0,0,0,0,0,0,0,0,0,0,0,0,0,0,0,0,0],\n",
    "                    [0,0,0,0,0,0,0,0,0,0,0,0,0,0,0,0,0,0,0,0,0,0,0,0,0,0,0,0],\n",
    "                    [0,0,0,0,0,0,0,0,0,0,0,0,0,0,0,0,0,0,0,0,0,0,0,0,0,0,0,0],\n",
    "                    [0,0,0,0,0,0,0,0,0,0,0,0,0,0,0,0,0,0,0,0,0,0,0,0,0,0,0,0],\n",
    "                    [0,0,0,0,0,0,0,0,0,0,0,0,0,0,0,0,0,0,0,0,0,0,0,0,0,0,0,0],\n",
    "                    [0,0,0,0,0,0,0,0,0,0,0,0,0,0,0,0,0,0,0,0,0,0,0,0,0,0,0,0]])\n",
    "\n",
    "dct_medfreq_mask = np.array([[0, 0, 0, 0, 0, 0, 0, 0, 0, 0, 0, 0, 0, 0, 0, 1, 1, 1, 1, 1, 1, 1, 1, 1, 1, 1, 1, 0],\n",
    "       [0, 0, 0, 0, 0, 0, 0, 0, 0, 0, 0, 0, 0, 0, 0, 1, 1, 1, 1, 1, 1, 1, 1, 1, 1, 1, 1, 0],\n",
    "       [0, 0, 0, 0, 0, 0, 0, 0, 0, 0, 0, 0, 0, 0, 0, 1, 1, 1, 1, 1, 1, 1, 1, 1, 1, 1, 1, 0],\n",
    "       [0, 0, 0, 0, 0, 0, 0, 0, 0, 0, 0, 0, 0, 0, 0, 1, 1, 1, 1, 1, 1, 1, 1, 1, 1, 1, 0, 0],\n",
    "       [0, 0, 0, 0, 0, 0, 0, 0, 0, 0, 0, 0, 0, 0, 0, 1, 1, 1, 1, 1, 1, 1, 1, 1, 1, 1, 0, 0],\n",
    "       [0, 0, 0, 0, 0, 0, 0, 0, 0, 0, 0, 0, 0, 0, 0, 1, 1, 1, 1, 1, 1, 1, 1, 1, 1, 0, 0, 0],\n",
    "       [0, 0, 0, 0, 0, 0, 0, 0, 0, 0, 0, 0, 0, 0, 1, 1, 1, 1, 1, 1, 1, 1, 1, 1, 1, 0, 0, 0],\n",
    "       [0, 0, 0, 0, 0, 0, 0, 0, 0, 0, 0, 0, 0, 1, 1, 1, 1, 1, 1, 1, 1, 1, 1, 1, 0, 0, 0, 0],\n",
    "       [0, 0, 0, 0, 0, 0, 0, 0, 0, 0, 0, 0, 1, 1, 1, 1, 1, 1, 1, 1, 1, 1, 1, 1, 0, 0, 0, 0],\n",
    "       [0, 0, 0, 0, 0, 0, 0, 0, 0, 0, 0, 1, 1, 1, 1, 1, 1, 1, 1, 1, 1, 1, 1, 0, 0, 0, 0, 0],\n",
    "       [0, 0, 0, 0, 0, 0, 0, 0, 0, 0, 1, 1, 1, 1, 1, 1, 1, 1, 1, 1, 1, 1, 1, 0, 0, 0, 0, 0],\n",
    "       [0, 0, 0, 0, 0, 0, 0, 0, 0, 1, 1, 1, 1, 1, 1, 1, 1, 1, 1, 1, 1, 1, 0, 0, 0, 0, 0, 0],\n",
    "       [0, 0, 0, 0, 0, 0, 0, 0, 1, 1, 1, 1, 1, 1, 1, 1, 1, 1, 1, 1, 1, 1, 0, 0, 0, 0, 0, 0],\n",
    "       [0, 0, 0, 0, 0, 0, 0, 1, 1, 1, 1, 1, 1, 1, 1, 1, 1, 1, 1, 1, 1, 0, 0, 0, 0, 0, 0, 0],\n",
    "       [0, 0, 0, 0, 0, 1, 1, 1, 1, 1, 1, 1, 1, 1, 1, 1, 1, 1, 1, 1, 1, 0, 0, 0, 0, 0, 0, 0],\n",
    "       [1, 1, 1, 1, 1, 1, 1, 1, 1, 1, 1, 1, 1, 1, 1, 1, 1, 1, 1, 1, 0, 0, 0, 0, 0, 0, 0, 0],\n",
    "       [1, 1, 1, 1, 1, 1, 1, 1, 1, 1, 1, 1, 1, 1, 1, 1, 1, 1, 1, 1, 0, 0, 0, 0, 0, 0, 0, 0],\n",
    "       [1, 1, 1, 1, 1, 1, 1, 1, 1, 1, 1, 1, 1, 1, 1, 1, 1, 1, 1, 0, 0, 0, 0, 0, 0, 0, 0, 0],\n",
    "       [1, 1, 1, 1, 1, 1, 1, 1, 1, 1, 1, 1, 1, 1, 1, 1, 1, 1, 1, 0, 0, 0, 0, 0, 0, 0, 0, 0],\n",
    "       [1, 1, 1, 1, 1, 1, 1, 1, 1, 1, 1, 1, 1, 1, 1, 1, 1, 0, 0, 0, 0, 0, 0, 0, 0, 0, 0, 0],\n",
    "       [1, 1, 1, 1, 1, 1, 1, 1, 1, 1, 1, 1, 1, 1, 1, 1, 1, 0, 0, 0, 0, 0, 0, 0, 0, 0, 0, 0],\n",
    "       [1, 1, 1, 1, 1, 1, 1, 1, 1, 1, 1, 1, 1, 1, 0, 0, 0, 0, 0, 0, 0, 0, 0, 0, 0, 0, 0, 0],\n",
    "       [1, 1, 1, 1, 1, 1, 1, 1, 1, 1, 1, 1, 1, 1, 0, 0, 0, 0, 0, 0, 0, 0, 0, 0, 0, 0, 0, 0],\n",
    "       [1, 1, 1, 1, 1, 1, 1, 1, 1, 1, 1, 0, 0, 0, 0, 0, 0, 0, 0, 0, 0, 0, 0, 0, 0, 0, 0, 0],\n",
    "       [1, 1, 1, 1, 1, 1, 1, 1, 1, 1, 1, 0, 0, 0, 0, 0, 0, 0, 0, 0, 0, 0, 0, 0, 0, 0, 0, 0],\n",
    "       [1, 1, 1, 1, 1, 1, 1, 0, 0, 0, 0, 0, 0, 0, 0, 0, 0, 0, 0, 0, 0, 0, 0, 0, 0, 0, 0, 0],\n",
    "       [1, 1, 1, 0, 0, 0, 0, 0, 0, 0, 0, 0, 0, 0, 0, 0, 0, 0, 0, 0, 0, 0, 0, 0, 0, 0, 0, 0],\n",
    "       [1, 0, 0, 0, 0, 0, 0, 0, 0, 0, 0, 0, 0, 0, 0, 0, 0, 0, 0, 0, 0, 0, 0, 0, 0, 0, 0, 0]])\n",
    "\n",
    "dct_highfreq_mask = np.array([[0, 0, 0, 0, 0, 0, 0, 0, 0, 0, 0, 0, 0, 0, 0, 0, 0, 0, 0, 0, 0, 0, 0, 0, 0, 0, 0, 1],\n",
    "       [0, 0, 0, 0, 0, 0, 0, 0, 0, 0, 0, 0, 0, 0, 0, 0, 0, 0, 0, 0, 0, 0, 0, 0, 0, 0, 0, 1],\n",
    "       [0, 0, 0, 0, 0, 0, 0, 0, 0, 0, 0, 0, 0, 0, 0, 0, 0, 0, 0, 0, 0, 0, 0, 0, 0, 0, 0, 1],\n",
    "       [0, 0, 0, 0, 0, 0, 0, 0, 0, 0, 0, 0, 0, 0, 0, 0, 0, 0, 0, 0, 0, 0, 0, 0, 0, 0, 1, 1],\n",
    "       [0, 0, 0, 0, 0, 0, 0, 0, 0, 0, 0, 0, 0, 0, 0, 0, 0, 0, 0, 0, 0, 0, 0, 0, 0, 0, 1, 1],\n",
    "       [0, 0, 0, 0, 0, 0, 0, 0, 0, 0, 0, 0, 0, 0, 0, 0, 0, 0, 0, 0, 0, 0, 0, 0, 0, 1, 1, 1],\n",
    "       [0, 0, 0, 0, 0, 0, 0, 0, 0, 0, 0, 0, 0, 0, 0, 0, 0, 0, 0, 0, 0, 0, 0, 0, 0, 1, 1, 1],\n",
    "       [0, 0, 0, 0, 0, 0, 0, 0, 0, 0, 0, 0, 0, 0, 0, 0, 0, 0, 0, 0, 0, 0, 0, 0, 1, 1, 1, 1],\n",
    "       [0, 0, 0, 0, 0, 0, 0, 0, 0, 0, 0, 0, 0, 0, 0, 0, 0, 0, 0, 0, 0, 0, 0, 0, 1, 1, 1, 1],\n",
    "       [0, 0, 0, 0, 0, 0, 0, 0, 0, 0, 0, 0, 0, 0, 0, 0, 0, 0, 0, 0, 0, 0, 0, 1, 1, 1, 1, 1],\n",
    "       [0, 0, 0, 0, 0, 0, 0, 0, 0, 0, 0, 0, 0, 0, 0, 0, 0, 0, 0, 0, 0, 0, 0, 1, 1, 1, 1, 1],\n",
    "       [0, 0, 0, 0, 0, 0, 0, 0, 0, 0, 0, 0, 0, 0, 0, 0, 0, 0, 0, 0, 0, 0, 1, 1, 1, 1, 1, 1],\n",
    "       [0, 0, 0, 0, 0, 0, 0, 0, 0, 0, 0, 0, 0, 0, 0, 0, 0, 0, 0, 0, 0, 0, 1, 1, 1, 1, 1, 1],\n",
    "       [0, 0, 0, 0, 0, 0, 0, 0, 0, 0, 0, 0, 0, 0, 0, 0, 0, 0, 0, 0, 0, 1, 1, 1, 1, 1, 1, 1],\n",
    "       [0, 0, 0, 0, 0, 0, 0, 0, 0, 0, 0, 0, 0, 0, 0, 0, 0, 0, 0, 0, 0, 1, 1, 1, 1, 1, 1, 1],\n",
    "       [0, 0, 0, 0, 0, 0, 0, 0, 0, 0, 0, 0, 0, 0, 0, 0, 0, 0, 0, 0, 1, 1, 1, 1, 1, 1, 1, 1],\n",
    "       [0, 0, 0, 0, 0, 0, 0, 0, 0, 0, 0, 0, 0, 0, 0, 0, 0, 0, 0, 0, 1, 1, 1, 1, 1, 1, 1, 1],\n",
    "       [0, 0, 0, 0, 0, 0, 0, 0, 0, 0, 0, 0, 0, 0, 0, 0, 0, 0, 0, 1, 1, 1, 1, 1, 1, 1, 1, 1],\n",
    "       [0, 0, 0, 0, 0, 0, 0, 0, 0, 0, 0, 0, 0, 0, 0, 0, 0, 0, 0, 1, 1, 1, 1, 1, 1, 1, 1, 1],\n",
    "       [0, 0, 0, 0, 0, 0, 0, 0, 0, 0, 0, 0, 0, 0, 0, 0, 0, 1, 1, 1, 1, 1, 1, 1, 1, 1, 1, 1],\n",
    "       [0, 0, 0, 0, 0, 0, 0, 0, 0, 0, 0, 0, 0, 0, 0, 0, 0, 1, 1, 1, 1, 1, 1, 1, 1, 1, 1, 1],\n",
    "       [0, 0, 0, 0, 0, 0, 0, 0, 0, 0, 0, 0, 0, 0, 1, 1, 1, 1, 1, 1, 1, 1, 1, 1, 1, 1, 1, 1],\n",
    "       [0, 0, 0, 0, 0, 0, 0, 0, 0, 0, 0, 0, 0, 0, 1, 1, 1, 1, 1, 1, 1, 1, 1, 1, 1, 1, 1, 1],\n",
    "       [0, 0, 0, 0, 0, 0, 0, 0, 0, 0, 0, 1, 1, 1, 1, 1, 1, 1, 1, 1, 1, 1, 1, 1, 1, 1, 1, 1],\n",
    "       [0, 0, 0, 0, 0, 0, 0, 0, 0, 0, 0, 1, 1, 1, 1, 1, 1, 1, 1, 1, 1, 1, 1, 1, 1, 1, 1, 1],\n",
    "       [0, 0, 0, 0, 0, 0, 0, 1, 1, 1, 1, 1, 1, 1, 1, 1, 1, 1, 1, 1, 1, 1, 1, 1, 1, 1, 1, 1],\n",
    "       [0, 0, 0, 1, 1, 1, 1, 1, 1, 1, 1, 1, 1, 1, 1, 1, 1, 1, 1, 1, 1, 1, 1, 1, 1, 1, 1, 1],\n",
    "       [0, 1, 1, 1, 1, 1, 1, 1, 1, 1, 1, 1, 1, 1, 1, 1, 1, 1, 1, 1, 1, 1, 1, 1, 1, 1, 1, 1]])"
   ]
  },
  {
   "cell_type": "markdown",
   "metadata": {},
   "source": [
    "Visual representation of those masks."
   ]
  },
  {
   "cell_type": "code",
   "execution_count": 4,
   "metadata": {},
   "outputs": [
    {
     "data": {
      "image/png": "[encoded data removed]",
      "text/plain": [
       "<Figure size 1200x400 with 3 Axes>"
      ]
     },
     "metadata": {},
     "output_type": "display_data"
    }
   ],
   "source": [
    "# Set up subplots\n",
    "plt.figure(figsize=(12, 4))\n",
    "\n",
    "# Plotting the low frequency mask\n",
    "plt.subplot(131)\n",
    "plt.imshow(dct_lowfreq_mask)\n",
    "plt.title(\"DCT Low-Frequency Mask\")\n",
    "plt.axis('off')\n",
    "\n",
    "# Plotting the medium frequency mask\n",
    "plt.subplot(132)\n",
    "plt.imshow(dct_medfreq_mask)\n",
    "plt.title(\"DCT Medium-Frequency Mask\")\n",
    "plt.axis('off')\n",
    "\n",
    "# Plotting the high frequency mask\n",
    "plt.subplot(133)\n",
    "plt.imshow(dct_highfreq_mask)\n",
    "plt.title(\"DCT High-Frequency Mask\")\n",
    "plt.axis('off')\n",
    "\n",
    "plt.tight_layout()\n",
    "plt.show()"
   ]
  },
  {
   "cell_type": "markdown",
   "metadata": {},
   "source": [
    "Frequency Masks for the Fast Fourier Transform"
   ]
  },
  {
   "cell_type": "code",
   "execution_count": 5,
   "metadata": {},
   "outputs": [],
   "source": [
    "fft_lowfreq_mask = np.array([[0,0,0,0,0,0,0,0,0,0,0,0,0,0,0,0,0,0,0,0,0,0,0,0,0,0,0,0],\n",
    "                        [0,0,0,0,0,0,0,0,0,0,0,0,0,0,0,0,0,0,0,0,0,0,0,0,0,0,0,0],\n",
    "                        [0,0,0,0,0,0,0,0,0,0,0,0,0,0,0,0,0,0,0,0,0,0,0,0,0,0,0,0],\n",
    "                        [0,0,0,0,0,0,0,0,0,0,0,0,0,0,0,0,0,0,0,0,0,0,0,0,0,0,0,0],\n",
    "                        [0,0,0,0,0,0,0,0,0,0,0,0,0,0,0,0,0,0,0,0,0,0,0,0,0,0,0,0],\n",
    "                        [0,0,0,0,0,0,0,0,0,0,0,0,0,0,0,0,0,0,0,0,0,0,0,0,0,0,0,0],\n",
    "                        [0,0,0,0,0,0,0,0,0,0,0,0,0,0,0,0,0,0,0,0,0,0,0,0,0,0,0,0],\n",
    "                        [0,0,0,0,0,0,0,0,0,0,0,0,0,0,0,0,0,0,0,0,0,0,0,0,0,0,0,0],\n",
    "                        [0,0,0,0,0,0,0,0,0,0,1,1,1,1,1,1,1,1,0,0,0,0,0,0,0,0,0,0],\n",
    "                        [0,0,0,0,0,0,0,0,0,1,1,1,1,1,1,1,1,1,1,0,0,0,0,0,0,0,0,0],\n",
    "                        [0,0,0,0,0,0,0,0,1,1,1,1,1,1,1,1,1,1,1,1,0,0,0,0,0,0,0,0],\n",
    "                        [0,0,0,0,0,0,0,0,1,1,1,1,1,1,1,1,1,1,1,1,0,0,0,0,0,0,0,0],\n",
    "                        [0,0,0,0,0,0,0,0,1,1,1,1,1,0,0,1,1,1,1,1,0,0,0,0,0,0,0,0],\n",
    "                        [0,0,0,0,0,0,0,0,1,1,1,1,0,0,0,0,1,1,1,1,0,0,0,0,0,0,0,0],\n",
    "                        [0,0,0,0,0,0,0,0,1,1,1,1,0,0,0,0,1,1,1,1,0,0,0,0,0,0,0,0],\n",
    "                        [0,0,0,0,0,0,0,0,1,1,1,1,1,0,0,1,1,1,1,1,0,0,0,0,0,0,0,0],\n",
    "                        [0,0,0,0,0,0,0,0,1,1,1,1,1,1,1,1,1,1,1,1,0,0,0,0,0,0,0,0],\n",
    "                        [0,0,0,0,0,0,0,0,1,1,1,1,1,1,1,1,1,1,1,1,0,0,0,0,0,0,0,0],\n",
    "                        [0,0,0,0,0,0,0,0,0,1,1,1,1,1,1,1,1,1,1,0,0,0,0,0,0,0,0,0],\n",
    "                        [0,0,0,0,0,0,0,0,0,0,1,1,1,1,1,1,1,1,0,0,0,0,0,0,0,0,0,0],\n",
    "                        [0,0,0,0,0,0,0,0,0,0,0,0,0,0,0,0,0,0,0,0,0,0,0,0,0,0,0,0],\n",
    "                        [0,0,0,0,0,0,0,0,0,0,0,0,0,0,0,0,0,0,0,0,0,0,0,0,0,0,0,0],\n",
    "                        [0,0,0,0,0,0,0,0,0,0,0,0,0,0,0,0,0,0,0,0,0,0,0,0,0,0,0,0],\n",
    "                        [0,0,0,0,0,0,0,0,0,0,0,0,0,0,0,0,0,0,0,0,0,0,0,0,0,0,0,0],\n",
    "                        [0,0,0,0,0,0,0,0,0,0,0,0,0,0,0,0,0,0,0,0,0,0,0,0,0,0,0,0],\n",
    "                        [0,0,0,0,0,0,0,0,0,0,0,0,0,0,0,0,0,0,0,0,0,0,0,0,0,0,0,0],\n",
    "                        [0,0,0,0,0,0,0,0,0,0,0,0,0,0,0,0,0,0,0,0,0,0,0,0,0,0,0,0],\n",
    "                        [0,0,0,0,0,0,0,0,0,0,0,0,0,0,0,0,0,0,0,0,0,0,0,0,0,0,0,0]])\n",
    "\n",
    "fft_medfreq_mask = np.array([[0,0,0,0,0,0,0,0,0,0,0,0,0,0,0,0,0,0,0,0,0,0,0,0,0,0,0,0],\n",
    "                        [0,0,0,0,0,0,0,0,0,0,0,0,0,0,0,0,0,0,0,0,0,0,0,0,0,0,0,0],\n",
    "                        [0,0,0,0,0,0,0,0,0,0,0,0,0,0,0,0,0,0,0,0,0,0,0,0,0,0,0,0],\n",
    "                        [0,0,0,0,0,0,0,0,0,0,0,0,0,0,0,0,0,0,0,0,0,0,0,0,0,0,0,0],\n",
    "                        [0,0,0,0,0,0,0,0,1,1,1,1,1,1,1,1,1,1,1,1,0,0,0,0,0,0,0,0],\n",
    "                        [0,0,0,0,0,0,1,1,1,1,1,1,1,1,1,1,1,1,1,1,1,1,0,0,0,0,0,0],\n",
    "                        [0,0,0,0,0,1,1,1,1,1,1,1,1,1,1,1,1,1,1,1,1,1,1,0,0,0,0,0],\n",
    "                        [0,0,0,0,0,1,1,1,1,1,1,1,1,1,1,1,1,1,1,1,1,1,1,0,0,0,0,0],\n",
    "                        [0,0,0,0,1,1,1,1,1,1,0,0,0,0,0,0,0,0,1,1,1,1,1,1,0,0,0,0],\n",
    "                        [0,0,0,0,1,1,1,1,1,0,0,0,0,0,0,0,0,0,0,1,1,1,1,1,0,0,0,0],\n",
    "                        [0,0,0,0,1,1,1,1,0,0,0,0,0,0,0,0,0,0,0,0,1,1,1,1,0,0,0,0],\n",
    "                        [0,0,0,0,1,1,1,1,0,0,0,0,0,0,0,0,0,0,0,0,1,1,1,1,0,0,0,0],\n",
    "                        [0,0,0,0,1,1,1,1,0,0,0,0,0,0,0,0,0,0,0,0,1,1,1,1,0,0,0,0],\n",
    "                        [0,0,0,0,1,1,1,1,0,0,0,0,0,0,0,0,0,0,0,0,1,1,1,1,0,0,0,0],\n",
    "                        [0,0,0,0,1,1,1,1,0,0,0,0,0,0,0,0,0,0,0,0,1,1,1,1,0,0,0,0],\n",
    "                        [0,0,0,0,1,1,1,1,0,0,0,0,0,0,0,0,0,0,0,0,1,1,1,1,0,0,0,0],\n",
    "                        [0,0,0,0,1,1,1,1,0,0,0,0,0,0,0,0,0,0,0,0,1,1,1,1,0,0,0,0],\n",
    "                        [0,0,0,0,1,1,1,1,1,0,0,0,0,0,0,0,0,0,1,1,1,1,1,1,0,0,0,0],\n",
    "                        [0,0,0,0,0,1,1,1,1,1,1,1,1,1,1,1,1,1,1,1,1,1,1,1,0,0,0,0],\n",
    "                        [0,0,0,0,0,1,1,1,1,1,1,1,1,1,1,1,1,1,1,1,1,1,1,1,0,0,0,0],\n",
    "                        [0,0,0,0,0,0,1,1,1,1,1,1,1,1,1,1,1,1,1,1,1,1,1,0,0,0,0,0],\n",
    "                        [0,0,0,0,0,0,0,0,1,1,1,1,1,1,1,1,1,1,1,1,0,0,0,0,0,0,0,0],\n",
    "                        [0,0,0,0,0,0,0,0,0,0,0,0,0,0,0,0,0,0,0,0,0,0,0,0,0,0,0,0],\n",
    "                        [0,0,0,0,0,0,0,0,0,0,0,0,0,0,0,0,0,0,0,0,0,0,0,0,0,0,0,0],\n",
    "                        [0,0,0,0,0,0,0,0,0,0,0,0,0,0,0,0,0,0,0,0,0,0,0,0,0,0,0,0],\n",
    "                        [0,0,0,0,0,0,0,0,0,0,0,0,0,0,0,0,0,0,0,0,0,0,0,0,0,0,0,0]])\n",
    "\n",
    "fft_highfreq_mask = np.array([[0,0,0,0,1,1,1,1,1,1,1,1,1,1,1,1,1,1,1,1,1,1,1,1,0,0,0,0],\n",
    "                         [0,0,1,1,1,1,1,1,1,1,1,1,1,1,1,1,1,1,1,1,1,1,1,1,1,1,0,0],\n",
    "                         [0,1,1,1,1,1,1,1,1,1,1,1,1,1,1,1,1,1,1,1,1,1,1,1,1,1,1,0],\n",
    "                         [0,1,1,1,1,1,1,1,1,1,1,1,1,1,1,1,1,1,1,1,1,1,1,1,1,1,1,0],\n",
    "                         [1,1,1,1,1,1,1,1,0,0,0,0,0,0,0,0,0,0,0,0,1,1,1,1,1,1,1,1],\n",
    "                         [1,1,1,1,1,1,0,0,0,0,0,0,0,0,0,0,0,0,0,0,0,0,1,1,1,1,1,1],\n",
    "                         [1,1,1,1,1,0,0,0,0,0,0,0,0,0,0,0,0,0,0,0,0,0,0,1,1,1,1,1],\n",
    "                         [1,1,1,1,1,0,0,0,0,0,0,0,0,0,0,0,0,0,0,0,0,0,0,1,1,1,1,1],\n",
    "                         [1,1,1,1,0,0,0,0,0,0,0,0,0,0,0,0,0,0,0,0,0,0,0,0,1,1,1,1],\n",
    "                         [1,1,1,1,0,0,0,0,0,0,0,0,0,0,0,0,0,0,0,0,0,0,0,0,1,1,1,1],\n",
    "                         [1,1,1,1,0,0,0,0,0,0,0,0,0,0,0,0,0,0,0,0,0,0,0,0,1,1,1,1],\n",
    "                         [1,1,1,1,0,0,0,0,0,0,0,0,0,0,0,0,0,0,0,0,0,0,0,0,1,1,1,1],\n",
    "                         [1,1,1,1,0,0,0,0,0,0,0,0,0,0,0,0,0,0,0,0,0,0,0,0,1,1,1,1],\n",
    "                         [1,1,1,1,0,0,0,0,0,0,0,0,0,0,0,0,0,0,0,0,0,0,0,0,1,1,1,1],\n",
    "                         [1,1,1,1,0,0,0,0,0,0,0,0,0,0,0,0,0,0,0,0,0,0,0,0,1,1,1,1],\n",
    "                         [1,1,1,1,0,0,0,0,0,0,0,0,0,0,0,0,0,0,0,0,0,0,0,0,1,1,1,1],\n",
    "                         [1,1,1,1,0,0,0,0,0,0,0,0,0,0,0,0,0,0,0,0,0,0,0,0,1,1,1,1],\n",
    "                         [1,1,1,1,0,0,0,0,0,0,0,0,0,0,0,0,0,0,0,0,0,0,0,0,1,1,1,1],\n",
    "                         [1,1,1,1,0,0,0,0,0,0,0,0,0,0,0,0,0,0,0,0,0,0,0,0,1,1,1,1],\n",
    "                         [1,1,1,1,1,0,0,0,0,0,0,0,0,0,0,0,0,0,0,0,0,0,0,1,1,1,1,1],\n",
    "                         [1,1,1,1,1,0,0,0,0,0,0,0,0,0,0,0,0,0,0,0,0,0,0,1,1,1,1,1],\n",
    "                         [1,1,1,1,1,1,0,0,0,0,0,0,0,0,0,0,0,0,0,0,0,0,1,1,1,1,1,1],\n",
    "                         [1,1,1,1,1,1,1,1,0,0,0,0,0,0,0,0,0,0,0,0,1,1,1,1,1,1,1,1],\n",
    "                         [0,1,1,1,1,1,1,1,1,1,1,1,1,1,1,1,1,1,1,1,1,1,1,1,1,1,1,0],\n",
    "                         [0,1,1,1,1,1,1,1,1,1,1,1,1,1,1,1,1,1,1,1,1,1,1,1,1,1,1,0],\n",
    "                         [0,0,1,1,1,1,1,1,1,1,1,1,1,1,1,1,1,1,1,1,1,1,1,1,1,1,0,0],\n",
    "                         [0,0,0,0,1,1,1,1,1,1,1,1,1,1,1,1,1,1,1,1,1,1,1,1,0,0,0,0]])"
   ]
  },
  {
   "cell_type": "code",
   "execution_count": 6,
   "metadata": {},
   "outputs": [
    {
     "data": {
      "image/png": "[encoded data removed]",
      "text/plain": [
       "<Figure size 1200x400 with 3 Axes>"
      ]
     },
     "metadata": {},
     "output_type": "display_data"
    }
   ],
   "source": [
    "# Set up subplots\n",
    "plt.figure(figsize=(12, 4))\n",
    "\n",
    "# Plotting the low frequency mask\n",
    "plt.subplot(131)\n",
    "plt.imshow(fft_lowfreq_mask)\n",
    "plt.title(\"FFT Low-Frequency Mask\")\n",
    "plt.axis('off')\n",
    "\n",
    "# Plotting the medium frequency mask\n",
    "plt.subplot(132)\n",
    "plt.imshow(fft_medfreq_mask)\n",
    "plt.title(\"FFT Medium-Frequency Mask\")\n",
    "plt.axis('off')\n",
    "\n",
    "# Plotting the high frequency mask\n",
    "plt.subplot(133)\n",
    "plt.imshow(fft_highfreq_mask)\n",
    "plt.title(\"FFT High-Frequency Mask\")\n",
    "plt.axis('off')\n",
    "\n",
    "plt.tight_layout()\n",
    "plt.show()"
   ]
  },
  {
   "cell_type": "markdown",
   "metadata": {},
   "source": [
    "We are giving you the code to perform a Discrete Cosine Transform and a Fast Fourier Transform with their inverses."
   ]
  },
  {
   "cell_type": "code",
   "execution_count": 7,
   "metadata": {},
   "outputs": [],
   "source": [
    "from scipy.fftpack import dct, idct\n",
    "\n",
    "def perform_2d_dct(input_array):\n",
    "    dct_array = dct(dct(input_array, axis=0, norm='ortho'), axis=1, norm='ortho')\n",
    "    return dct_array\n",
    "\n",
    "def perform_inverse_2d_dct(dct_array):\n",
    "    if dct_array.ndim != 2:\n",
    "        raise ValueError(\"Input must be a 2D array\")\n",
    "    inverse_dct_array = idct(idct(dct_array, axis=0, norm='ortho'), axis=1, norm='ortho')\n",
    "    return inverse_dct_array"
   ]
  },
  {
   "cell_type": "code",
   "execution_count": 8,
   "metadata": {},
   "outputs": [],
   "source": [
    "import numpy as np\n",
    "from scipy.fft import fft2, fftshift, ifft2, ifftshift\n",
    "\n",
    "def perform_2d_fft(input_array):\n",
    "    fft_array = fftshift(fft2(input_array))\n",
    "    return fft_array\n",
    "\n",
    "def perform_inverse_2d_fft(fft_array):\n",
    "    if fft_array.ndim != 2:\n",
    "        raise ValueError(\"Input must be a 2D array\")\n",
    "    inverse_fft_array = ifft2(ifftshift(fft_array))\n",
    "    #inverse_fft_array = ifft2(fft_array)\n",
    "    return inverse_fft_array"
   ]
  },
  {
   "cell_type": "markdown",
   "metadata": {},
   "source": [
    "The integer number 8 image is below in flattened array form. "
   ]
  },
  {
   "cell_type": "code",
   "execution_count": 9,
   "metadata": {},
   "outputs": [],
   "source": [
    "## Integer 8 Image\n",
    "eight = np.array([  8,   0,   0,   0,   0,   0,   0,   0,   0,   0,   0,   0,   0,\n",
    "         0,   0,   0,   0,   0,   0,   0,   0,   0,   0,   0,   0,   0,\n",
    "         0,   0,   0,   0,   0,   0,   0,   0,   0,   0,   0,   0,   0,\n",
    "         0,   0,   0,   0,   0,   0,   0,   0,   0,   0,   0,   0,   0,\n",
    "         0,   0,   0,   0,   0,   0,   0,   0,   0,   0,   0,   0,   0,\n",
    "         0,   0,   0,   0,   0,   0,   0,   0,   0,   0,   0,   0,   0,\n",
    "         0,   0,   0,   0,   0,   0,   0,   0,   0,   0,   0,   0,   0,\n",
    "         0,   0,   0,   0,   0,   0,   0,   0,   0,   0,   0,   0,   0,\n",
    "         0,   0,   0,   0,   0,   0,   0,   0,   0,   0,   0,   0,   0,\n",
    "         0,   0,   0,   0,   0,   0,   0,   0,   0,   0,   0,   0,   0,\n",
    "         0,   0,   0,   0,   0,   0,   0,   0,   0,   0,   0,   0,   0,\n",
    "         0,   0,   0,   0,   0,   0,   0,   0,   0,   0,   0,   0,   0,\n",
    "         0,   0,   0,   0,   0,   0,   0,   0,   0,   0,   0,   0,   0,\n",
    "         0,   0,   0,   0,   0,   0,   0,   0,   0,   0,   0,   0,   7,\n",
    "        24,  24,  97, 253, 253, 253, 253, 255, 180,  48,   0,   0,   0,\n",
    "         0,   0,   0,   0,   0,   0,   0,   0,   0,   0,   0,   0,   0,\n",
    "        30, 186, 252, 252, 253, 252, 252, 252, 252, 253, 252, 227,  29,\n",
    "         0,   0,   0,   0,   0,   0,   0,   0,   0,   0,   0,   0,   0,\n",
    "         0,  38, 155, 252, 252, 252, 253, 252, 252, 227,  79, 222, 252,\n",
    "       252, 129,   0,   0,   0,   0,   0,   0,   0,   0,   0,   0,   0,\n",
    "         0,   0,  85, 233, 252, 252, 252, 252, 253, 252, 252, 202,  11,\n",
    "       180, 252, 252, 119,   0,   0,   0,   0,   0,   0,   0,   0,   0,\n",
    "         0,   0,   0,  43, 240, 253, 252, 252, 252, 252, 253, 252, 252,\n",
    "       244, 126, 201, 252, 252, 150,   0,   0,   0,   0,   0,   0,   0,\n",
    "         0,   0,   0,   0,   7, 212, 253, 255, 253, 253, 253, 232, 221,\n",
    "        42,   0, 104, 253, 255, 253, 205,  21,   0,   0,   0,   0,   0,\n",
    "         0,   0,   0,   0,   0,   0,  25, 223, 252, 253, 252, 252, 214,\n",
    "        18,   0,   0,  34, 215, 252, 253, 223,  56,   0,   0,   0,   0,\n",
    "         0,   0,   0,   0,   0,   0,   0,   0,   0,  99, 246, 253, 252,\n",
    "       252,  77,   0,   7,  70, 203, 252, 252, 173,  25,   0,   0,   0,\n",
    "         0,   0,   0,   0,   0,   0,   0,   0,   0,   0,   0,   0,  42,\n",
    "       253, 252, 252, 236, 103, 160, 252, 252, 218, 108,   0,   0,   0,\n",
    "         0,   0,   0,   0,   0,   0,   0,   0,   0,   0,   0,   0,   0,\n",
    "         0,   0, 148, 252, 252, 252, 252, 253, 231, 106,  14,   0,   0,\n",
    "         0,   0,   0,   0,   0,   0,   0,   0,   0,   0,   0,   0,   0,\n",
    "         0,   0,   0,   0,  24, 253, 253, 253, 253, 255, 159,   7,   0,\n",
    "         0,   0,   0,   0,   0,   0,   0,   0,   0,   0,   0,   0,   0,\n",
    "         0,   0,   0,   0,   0,  43, 118, 252, 240, 244, 252, 253, 231,\n",
    "        37,   0,   0,   0,   0,   0,   0,   0,   0,   0,   0,   0,   0,\n",
    "         0,   0,   0,   0,   0,  19, 164, 246, 253, 187,  50,  99, 246,\n",
    "       253, 252,  69,   0,   0,   0,   0,   0,   0,   0,   0,   0,   0,\n",
    "         0,   0,   0,   0,   0,   0,   0,  80, 232, 252, 203,  58,   0,\n",
    "         0, 135, 253, 252, 121,   0,   0,   0,   0,   0,   0,   0,   0,\n",
    "         0,   0,   0,   0,   0,   0,   0,   0,  43, 246, 252, 200,  11,\n",
    "         0,   0,   0, 116, 253, 252,  69,   0,   0,   0,   0,   0,   0,\n",
    "         0,   0,   0,   0,   0,   0,   0,   0,   0,   0, 162, 253, 192,\n",
    "        11,   0,   0,   0,   0, 179, 255, 253,  69,   0,   0,   0,   0,\n",
    "         0,   0,   0,   0,   0,   0,   0,   0,   0,   0,   0,   5, 178,\n",
    "       252, 119,   0,   5,  47,  47, 140, 244, 253, 252,  69,   0,   0,\n",
    "         0,   0,   0,   0,   0,   0,   0,   0,   0,   0,   0,   0,   0,\n",
    "         7, 186, 252, 227, 184, 191, 252, 252, 252, 252, 253, 240,  50,\n",
    "         0,   0,   0,   0,   0,   0,   0,   0,   0,   0,   0,   0,   0,\n",
    "         0,   0,  11, 144, 227, 252, 252, 253, 252, 252, 252, 252,  98,\n",
    "        37,   0,   0,   0,   0,   0,   0,   0,   0,   0,   0,   0,   0,\n",
    "         0,   0,   0,   0,   0,   0,  48, 137, 242, 253, 231, 137, 137,\n",
    "        32,   0,   0,   0,   0,   0,   0,   0,   0,   0,   0,   0,   0,\n",
    "         0,   0,   0,   0,   0,   0,   0,   0,   0,   0,   0,   0,   0,\n",
    "         0,   0,   0,   0,   0,   0,   0,   0,   0,   0,   0,   0,   0,\n",
    "         0,   0,   0,   0,   0,   0,   0,   0,   0,   0,   0,   0,   0,\n",
    "         0,   0,   0,   0,   0,   0,   0,   0,   0,   0,   0,   0,   0,\n",
    "         0,   0,   0,   0,   0])"
   ]
  },
  {
   "cell_type": "markdown",
   "metadata": {},
   "source": [
    "# Activity Steps"
   ]
  },
  {
   "cell_type": "markdown",
   "metadata": {},
   "source": [
    "1. Reshape the image."
   ]
  },
  {
   "cell_type": "markdown",
   "metadata": {},
   "source": [
    "<div style=\"background: red; margin:20px; padding: 20px;\">\n",
    "    <strong>Warning!!! and Note</strong>\n",
    "    <p>The image has a label in the first index and the image is 28x28</p>\n",
    "</div>"
   ]
  },
  {
   "cell_type": "code",
   "execution_count": 16,
   "metadata": {},
   "outputs": [
    {
     "data": {
      "text/plain": [
       "(28, 28)"
      ]
     },
     "execution_count": 16,
     "metadata": {},
     "output_type": "execute_result"
    }
   ],
   "source": [
    "# reshape the image code\n",
    "eight.shape\n",
    "eight_img = eight[:784].reshape((28,28))\n",
    "eight_img.shape"
   ]
  },
  {
   "cell_type": "markdown",
   "metadata": {},
   "source": [
    "What does the image look like?"
   ]
  },
  {
   "cell_type": "code",
   "execution_count": 17,
   "metadata": {},
   "outputs": [
    {
     "data": {
      "image/png": "[encoded data removed]",
      "text/plain": [
       "<Figure size 1200x400 with 1 Axes>"
      ]
     },
     "metadata": {},
     "output_type": "display_data"
    }
   ],
   "source": [
    "plt.figure(figsize=(12, 4))\n",
    "\n",
    "plt.imshow(eight_img)\n",
    "plt.title(\"Raw image\")\n",
    "plt.axis('off')\n",
    "\n",
    "plt.show()"
   ]
  },
  {
   "cell_type": "markdown",
   "metadata": {},
   "source": [
    "2. Transform the image"
   ]
  },
  {
   "cell_type": "code",
   "execution_count": 18,
   "metadata": {},
   "outputs": [],
   "source": [
    "# transform the image code\n",
    "eight_dct = perform_2d_dct(eight_img)"
   ]
  },
  {
   "cell_type": "markdown",
   "metadata": {},
   "source": [
    "3. Extract Coefficients"
   ]
  },
  {
   "cell_type": "markdown",
   "metadata": {},
   "source": [
    "<div style=\"background: red; margin:20px; padding: 20px;\">\n",
    "    <strong>Warning!!! and Note</strong>\n",
    "    <p>Pay special attention to how you compute the masks</p>\n",
    "</div>"
   ]
  },
  {
   "cell_type": "code",
   "execution_count": 20,
   "metadata": {},
   "outputs": [
    {
     "data": {
      "text/plain": [
       "array([[ 1.52167857e+03, -3.01835306e+02, -1.30389712e+03,\n",
       "         2.30568076e+02,  2.39421653e+02,  1.33836649e+02,\n",
       "        -2.71693145e+01,  7.91431493e+01, -1.03842742e+02,\n",
       "        -1.08171663e+02,  1.31988543e+02, -9.80395780e+01,\n",
       "         1.24900732e+01,  7.80696456e+01,  6.17857143e+00,\n",
       "        -3.86656281e+01, -6.66719836e+00,  2.01330738e+01,\n",
       "        -3.15956820e+01,  1.46085360e+01,  5.02915412e+00,\n",
       "        -1.97548025e+01,  1.25301461e+01,  4.09013446e+01,\n",
       "        -2.53812141e+01, -1.86760435e+01,  2.43363990e+01,\n",
       "        -3.59100033e+01],\n",
       "       [-1.59075938e+02, -3.25776311e+02,  3.66037985e+02,\n",
       "         3.48119620e+02, -2.25056108e+02,  1.12763591e+02,\n",
       "        -1.78459647e+02, -1.86690278e+02,  1.39184627e+02,\n",
       "         1.10821764e+02, -4.12476652e+00, -1.56682486e+01,\n",
       "         6.99117320e+01, -1.11666385e+02, -5.63827570e+01,\n",
       "         6.07270100e+01,  7.40668642e+00,  2.98555797e+01,\n",
       "         5.95877231e+00, -3.09763658e+01,  1.00858236e+01,\n",
       "         2.04811519e+01, -4.74106815e+01, -1.71555232e+00,\n",
       "         3.09277544e+01, -6.84332624e+00,  4.58048715e+00,\n",
       "         4.50429968e+00],\n",
       "       [-7.81552039e+02,  3.12661775e+02,  6.50494498e+02,\n",
       "        -2.97544936e+02, -1.70459015e+02, -1.51948355e+02,\n",
       "         1.56148416e+02,  1.57808028e+02, -1.08077511e-01,\n",
       "        -6.28237692e+01, -1.05573971e+02,  4.44696594e+01,\n",
       "         2.04413967e+00,  1.51323364e+01,  2.26026290e+01,\n",
       "         2.78315263e+01, -1.18240929e+01, -5.67084329e+01,\n",
       "         1.19254892e+01,  1.15306280e+01, -4.93483426e+00,\n",
       "         1.78609461e+01,  2.10682147e+01, -2.88062495e+01,\n",
       "        -9.87407196e+00,  1.25469226e+01, -6.01261007e+00,\n",
       "         9.34939218e+00],\n",
       "       [-4.23114572e+02,  3.54839164e+02,  8.89939309e+01,\n",
       "        -2.08285904e+02,  1.74173630e+02, -3.44847001e+02,\n",
       "         2.32934579e+02,  1.76607482e+02, -1.66686972e+02,\n",
       "        -4.55160474e+01,  3.11571876e+01,  3.64078709e+01,\n",
       "        -1.23377559e+02,  1.35954603e+02,  4.24265179e+01,\n",
       "        -9.76315277e+01,  1.04567529e+01, -1.42622663e+01,\n",
       "         1.30768454e+01,  3.75412662e+01, -1.82920566e+01,\n",
       "        -3.35528732e+01,  4.90928270e+01, -1.68742396e+01,\n",
       "        -2.43418645e+01,  2.52111871e+01, -9.40469586e+00,\n",
       "         7.49164454e+00],\n",
       "       [-2.52767041e+02,  1.18402743e+02,  9.61500504e+01,\n",
       "        -1.80042496e+02,  1.74450976e+02,  2.45390289e+02,\n",
       "        -1.65925041e+02, -3.86935169e+02,  1.74185688e+02,\n",
       "         1.95991492e+02, -8.69450077e+01,  7.48226098e+01,\n",
       "        -2.47800317e+01, -8.07511965e+01, -1.38834327e+01,\n",
       "         1.61967969e+01,  2.85641656e+01,  2.08779517e+01,\n",
       "         1.67888186e+00, -1.23283971e+01,  3.79000189e+00,\n",
       "        -2.05303179e+01, -1.27866759e+01,  1.08099061e+01,\n",
       "         3.11623905e+01, -8.34495096e+00, -3.18003021e+01,\n",
       "         3.33078418e+01],\n",
       "       [ 4.15293197e+02, -3.43518597e+00, -2.39602288e+02,\n",
       "        -1.63555277e+02, -1.11759977e+02,  1.94954388e+02,\n",
       "         6.45015674e+01,  9.89127967e+01, -3.92283540e+01,\n",
       "        -1.35845086e+02,  8.30033428e-01,  3.22457473e+00,\n",
       "         3.83504351e+01, -2.35355676e-01,  3.09735994e+01,\n",
       "         2.36704334e+00, -2.12723963e+01,  7.31978715e+00,\n",
       "        -2.23306661e+01, -1.92398440e+01,  1.64943859e+01,\n",
       "         2.44287345e+01, -7.15734305e+00,  8.51687399e+00,\n",
       "         3.32297544e-01, -4.27629577e+00, -5.43654095e+00,\n",
       "        -2.24098210e+01],\n",
       "       [ 6.19833237e+01, -1.93494872e+02,  3.95868351e+01,\n",
       "         1.80016333e+02,  2.24215351e+01, -1.77312341e+01,\n",
       "        -1.22530764e+02,  1.11332888e+02, -1.53819385e+02,\n",
       "        -2.34724325e+01,  1.88973746e+02, -2.06861161e+01,\n",
       "         1.81147159e+01, -7.95621640e+01, -2.03010751e+01,\n",
       "         1.60917535e+01, -1.33473814e+01,  3.69429900e+01,\n",
       "         2.83530735e+01, -2.16539773e+01, -1.62622974e+01,\n",
       "         2.25952920e+01, -2.62045601e+01,  4.63538761e+00,\n",
       "        -8.37104753e+00, -6.97498601e+00,  3.55922069e+01,\n",
       "         4.40126209e-01],\n",
       "       [ 2.85407020e+02, -9.81817822e+01, -3.13570437e+02,\n",
       "         1.90448681e+02,  2.32272695e+02, -1.94871150e+02,\n",
       "        -2.05139650e+02,  1.28377694e+02,  1.28079449e+02,\n",
       "         7.19338820e+01, -9.20385371e+01, -1.45966105e+02,\n",
       "         4.72700085e+01,  3.86245469e+01,  3.77648780e+01,\n",
       "         3.74918918e+01, -3.25260400e+01, -4.74526313e+01,\n",
       "         1.32377399e+00,  1.90470634e+01, -1.58027276e+00,\n",
       "         4.89803001e+00,  4.81821696e+00,  1.68337009e+01,\n",
       "        -1.93352046e+01, -1.52352373e+01,  2.23878302e+01,\n",
       "        -1.45999527e+01],\n",
       "       [-1.56241433e+02, -9.52463929e+01,  2.44187086e+02,\n",
       "         2.30626214e+02, -3.23976556e+02, -1.25801701e+02,\n",
       "         2.49907362e+02, -4.91162513e+01,  3.28756736e+00,\n",
       "         1.98846286e+01, -7.23383643e+01, -9.39122896e+00,\n",
       "         3.25672871e+01,  6.47726034e+01, -4.09452010e+01,\n",
       "        -2.72969781e+01,  1.93694182e+01, -6.65838599e+00,\n",
       "        -1.50604899e+01,  1.55459653e+01,  2.41688784e+01,\n",
       "        -9.89913632e-01, -1.65694750e+01, -3.12131340e+01,\n",
       "         2.43337557e+01,  2.17525138e+01, -1.17141549e+01,\n",
       "        -9.77097485e+00],\n",
       "       [ 9.43626434e+01,  6.92754821e+01, -7.73908607e+01,\n",
       "        -1.85376333e+02, -7.86466848e+01,  3.22000700e+02,\n",
       "         9.86482441e+01, -2.61542130e+02,  1.16953524e+01,\n",
       "        -6.29276701e+01,  4.46778497e+01,  1.69520828e+02,\n",
       "        -4.58872769e+01, -5.38938716e+01, -6.67134524e+01,\n",
       "         2.48173998e+00,  5.61911281e+01,  2.94311989e+01,\n",
       "        -1.31982856e+01, -3.27306195e+00, -1.51948395e+01,\n",
       "        -2.86412301e+01,  3.07225265e+01, -2.10185134e+00,\n",
       "         1.25755792e+01,  7.69994141e-01, -2.17877396e+01,\n",
       "         1.11938717e+01],\n",
       "       [-1.09811147e+02,  9.03513845e+00,  9.66532628e+01,\n",
       "         3.15493168e+01,  1.47140031e+01, -1.12871357e+02,\n",
       "        -1.00097775e+02,  1.48745870e+02,  1.06381933e+02,\n",
       "        -9.97192977e+01, -1.10277129e+01, -1.25237739e+01,\n",
       "        -5.77838078e+01,  6.90255017e+01,  4.78856475e+01,\n",
       "        -3.72680267e+01, -1.49587811e+01,  1.32988615e+01,\n",
       "        -9.63900253e+00,  4.69435055e+00, -7.58581386e+00,\n",
       "        -2.09727550e+01,  3.83593008e+01,  1.59194750e+01,\n",
       "        -1.94567184e+01, -9.67070844e+00, -5.90204508e+00,\n",
       "         7.61886361e+00],\n",
       "       [-7.50624485e+01,  7.44217015e+01,  1.19955773e+01,\n",
       "        -1.04318939e+02,  8.66874525e+01, -5.55648109e+00,\n",
       "         3.22852406e+01,  1.19259356e+01, -1.44075704e+02,\n",
       "         7.25283578e+01,  5.26859937e+01, -2.48300940e+01,\n",
       "         1.50784475e+01, -3.19378642e+01,  9.17320396e+00,\n",
       "         1.42643649e+01, -1.38513941e+01, -1.70035940e+01,\n",
       "         1.85537278e+01,  2.23850895e+00,  1.07809561e+01,\n",
       "         1.68947380e+01, -3.04210585e+01, -1.02338922e+01,\n",
       "        -1.78240045e+00,  6.89194349e+00,  7.90538544e+00,\n",
       "         2.09554522e+01],\n",
       "       [ 1.23117850e+01,  4.56303188e+01, -6.84800814e+01,\n",
       "        -3.57269961e+01,  8.81474198e+01, -4.55068904e+01,\n",
       "         3.94650936e+01, -2.81524695e+01, -9.42949772e+01,\n",
       "         1.43481848e+02,  7.76016418e+00, -6.36284552e+01,\n",
       "        -6.07115273e-01, -3.80863510e+01,  2.80883819e+01,\n",
       "         5.78502610e+01, -2.51157881e+00, -5.36107153e+01,\n",
       "         1.11508944e+01, -2.98494501e+00,  3.85131515e+00,\n",
       "         2.16863466e+01, -2.05665264e+01,  9.32050165e+00,\n",
       "        -6.46464655e+00,  1.14432391e+01,  4.25174539e+00,\n",
       "        -2.91719933e+01],\n",
       "       [-1.32063988e+02,  2.26856632e+01,  1.25338436e+02,\n",
       "        -4.23374172e+01, -4.08325176e+00,  3.08829110e+01,\n",
       "        -7.41555031e+01, -1.39014417e+01,  9.19727538e+01,\n",
       "         4.11506633e+00, -6.72230470e+01, -3.72324576e+00,\n",
       "         2.88097531e+01,  1.84101259e+01, -1.07719905e+00,\n",
       "        -2.34046728e+01, -1.48903116e+01,  2.20336805e+01,\n",
       "         1.94953737e+01, -2.33404775e+01, -1.03447240e+00,\n",
       "         8.68743232e+00, -6.19287815e+00,  1.33093227e+01,\n",
       "        -1.01282983e+01, -1.21170194e+01,  1.55628040e+01,\n",
       "         1.83637938e+00],\n",
       "       [ 7.37500000e+01,  2.51064776e+01, -6.34497363e+01,\n",
       "        -7.52860991e+01,  4.03857330e+01,  4.96979167e+01,\n",
       "        -8.14070956e+01,  9.10854540e+01,  6.59902321e+01,\n",
       "        -1.51117611e+02, -1.49592152e+01,  5.89815466e+01,\n",
       "         3.08535402e+01,  1.91484253e+01, -2.67500000e+01,\n",
       "        -5.01608847e+01, -2.26830609e+00,  5.92293072e+01,\n",
       "        -3.48595390e+00, -1.27184373e+01, -7.00145537e+00,\n",
       "        -5.29572123e+00,  6.69136463e+00, -6.15322098e+00,\n",
       "         1.95994794e+01, -8.59321559e+00, -9.51074399e+00,\n",
       "         7.64799041e+00],\n",
       "       [ 4.39058302e+01, -8.07421450e+01, -1.68879634e+01,\n",
       "         1.30078391e+02, -1.26852141e+01, -6.46917520e+01,\n",
       "        -6.84879665e+00,  3.77219406e+01, -2.82421611e+01,\n",
       "        -2.11473005e+01,  6.41970737e+01,  8.83580908e+00,\n",
       "        -3.66691993e+01, -3.14763873e+01,  2.15141723e+01,\n",
       "         2.25654823e+01,  1.76362589e+00, -1.12692133e+01,\n",
       "        -2.51496487e+01,  4.43126935e+01, -8.43357357e+00,\n",
       "        -2.78541281e+01,  1.06758562e+01, -6.79708271e+00,\n",
       "         3.06396563e+01,  6.45939354e-01, -2.34616737e+01,\n",
       "        -6.98900018e+00],\n",
       "       [ 1.19837188e+02, -4.48174377e+01, -8.28181122e+01,\n",
       "         6.45978351e+01, -4.16619446e+01, -9.16987828e-01,\n",
       "         5.54810138e+01, -4.38566260e+01,  4.44205976e+00,\n",
       "         3.92591224e+01, -3.71898471e+01, -5.93402255e+00,\n",
       "         1.28363330e+01, -9.76641977e+00,  9.61500679e+00,\n",
       "         5.73607270e+00,  1.26091671e+01, -8.54343885e+00,\n",
       "        -2.36233069e+01,  1.92256027e-01,  5.51313023e+00,\n",
       "         2.45740365e+01,  9.93230938e+00, -2.63581054e+01,\n",
       "        -1.68302316e+01,  8.90268120e+00,  1.54994389e+01,\n",
       "         2.61482661e+00],\n",
       "       [-2.29971502e+01, -4.10084527e+01,  5.30138119e+01,\n",
       "         6.92529782e+01, -8.74005743e+01,  3.74694159e+00,\n",
       "         7.47338547e+01, -7.24562269e+01, -1.99620379e+01,\n",
       "         4.96519201e+01,  5.02816980e+00, -1.71534233e+01,\n",
       "         1.88965809e+00,  2.07468290e+01, -3.69069951e+01,\n",
       "         1.30622433e+00,  2.93952384e+01, -7.45565112e+00,\n",
       "         1.58750930e+00, -2.20161510e+01,  1.01207368e+01,\n",
       "         1.65321379e+01, -3.92392834e+00,  2.91914330e+00,\n",
       "        -2.33598512e+01, -4.37349281e+00,  1.64601714e+01,\n",
       "         1.92500940e+01],\n",
       "       [-1.37455106e+01,  3.48640780e+01,  1.13848788e+01,\n",
       "        -6.26526973e+01, -1.63388398e+01,  5.63214475e+01,\n",
       "         1.91081150e+01, -3.06899223e+01, -8.92399696e+00,\n",
       "        -8.94206093e+00,  3.32999005e+01,  2.31204585e-02,\n",
       "        -2.67942912e+01,  5.63858659e+00, -2.00443029e+00,\n",
       "         3.74421964e+01, -2.72038156e+01, -3.10489558e+01,\n",
       "         4.02186757e+01,  6.95847716e+00, -4.03199426e+00,\n",
       "        -3.02192991e+01, -2.49564345e+00,  2.84781026e+01,\n",
       "         1.59946708e+00,  1.05471027e+01, -1.41156036e+01,\n",
       "        -2.69540736e+01],\n",
       "       [-2.40829460e+01,  1.95141036e+01,  1.09047593e+00,\n",
       "        -9.53087430e+00,  3.40780130e+01, -3.43197365e+01,\n",
       "        -2.69483070e+01,  4.09677234e+01,  1.61417709e+01,\n",
       "        -8.83388973e+00, -8.09152800e+00, -3.40342853e+01,\n",
       "         8.80852123e+00,  4.65595325e+01, -3.33606094e+00,\n",
       "        -2.56234004e+01, -7.27817649e+00,  8.73474057e+00,\n",
       "        -6.07881493e+00,  1.35067662e+01,  1.87250959e+01,\n",
       "        -2.84111237e+01, -8.21986006e+00,  1.67249534e+01,\n",
       "         1.56174195e+00, -2.84032196e+00, -1.00067291e+00,\n",
       "        -8.38221791e-01],\n",
       "       [-4.66240400e+01,  1.67443065e+01,  2.68683575e+01,\n",
       "        -2.46443506e+01,  3.13686532e+01,  2.84970122e+00,\n",
       "        -2.28115283e+01, -4.28812704e+00, -2.09091892e+00,\n",
       "         1.36683841e+01, -1.00182358e+01,  2.03078284e+01,\n",
       "         9.82417896e-01, -2.31823072e+01,  1.48062870e+01,\n",
       "        -1.43771776e+01,  3.92207516e+00,  1.32523184e+01,\n",
       "         5.47781895e-01, -5.33170965e+00, -1.34688609e+01,\n",
       "         1.95365067e+01, -3.83779952e+00, -1.07205382e+01,\n",
       "         1.22631563e+01, -9.96386198e+00, -2.42747444e+00,\n",
       "         1.69195219e+01],\n",
       "       [-1.69771311e+01,  2.26713574e+01,  1.68062258e+01,\n",
       "        -3.70270636e+01,  5.51898136e+00, -1.17316297e+01,\n",
       "         1.02864173e+00,  4.23266014e+01, -1.24487830e+01,\n",
       "        -1.85586795e+01, -9.30147494e+00,  2.63556233e+01,\n",
       "        -7.55292885e+00, -1.94223780e+01,  2.44444436e+01,\n",
       "        -1.54132925e+01,  3.72758479e+00,  1.63727430e+01,\n",
       "         1.04504265e+01, -3.02949633e+01, -3.17484678e+01,\n",
       "         4.39794489e+01,  1.64218855e+01, -1.84915772e+01,\n",
       "        -7.10548945e+00,  8.19499385e+00,  2.17677213e+00,\n",
       "        -1.49004086e+01],\n",
       "       [ 1.53997210e+01,  8.35879392e+00, -3.37336177e+01,\n",
       "        -2.25683626e+01,  5.37588359e+01,  1.62000053e+01,\n",
       "        -3.08952999e+01, -5.25199002e+00, -1.10718679e+01,\n",
       "         1.39022542e+01, -4.13274594e-01, -1.85537434e+00,\n",
       "         2.83301302e+01, -1.78342463e+01, -2.29872490e+01,\n",
       "         1.39887495e+01,  1.58315412e+01, -9.59758037e+00,\n",
       "        -1.95747299e+01,  1.13756522e+01,  2.15159834e+01,\n",
       "        -7.89574061e+00, -4.41096295e+00,  2.14483854e+00,\n",
       "        -1.89773163e+01, -6.43311589e+00,  1.80608966e+01,\n",
       "         2.47746396e+01],\n",
       "       [-1.27238952e+01, -4.00866064e+00,  8.79638264e+00,\n",
       "         2.44706669e+01,  8.08296313e+00, -4.06837891e+01,\n",
       "        -3.17138320e+01,  3.75927846e+01,  4.24400223e+01,\n",
       "        -1.29424044e+01, -2.64235982e+01, -1.15693309e+01,\n",
       "         1.52302636e+01, -1.28529096e+01,  1.39382330e+01,\n",
       "         2.87182954e+01, -2.78197841e+01, -5.22985598e+00,\n",
       "        -1.14176297e+01,  1.74385823e+01,  2.22006183e+01,\n",
       "        -2.53354367e+01, -1.29840020e+01,  1.13782165e+00,\n",
       "         2.89602204e+01,  1.03491631e+01, -2.30268245e+01,\n",
       "        -2.14808329e+01],\n",
       "       [ 3.01317305e+01,  9.55410447e+00, -3.77649732e+01,\n",
       "        -2.19275669e+01,  8.70512147e+00,  4.27465098e+01,\n",
       "         1.15573393e+01, -3.26924213e+01, -1.82643849e+01,\n",
       "        -1.32672692e+01,  4.17623445e+01,  1.15583407e+01,\n",
       "        -2.71850850e+01,  8.15131168e+00,  4.01742928e+00,\n",
       "        -1.73150461e+01, -2.17973263e+00,  2.16596590e+01,\n",
       "        -6.63576798e+00,  8.09972968e+00, -8.97019793e+00,\n",
       "        -1.18814601e+01,  8.31651710e+00,  9.84886543e-01,\n",
       "         1.57996941e+01, -1.68133657e+01, -2.30044779e+00,\n",
       "         6.78839668e+00],\n",
       "       [-1.09338460e+01, -1.60406599e+01,  3.14627111e+01,\n",
       "         2.97844079e+01, -4.71907452e+01, -1.45647444e+01,\n",
       "         1.77355904e+01,  1.50643493e+01,  1.74271560e+01,\n",
       "        -3.56463807e+01,  8.07037460e-01,  1.92720236e+01,\n",
       "        -2.07461525e+01,  1.38620539e+01,  4.44624659e+00,\n",
       "        -6.84064362e+00,  9.60764881e-01, -9.31162215e+00,\n",
       "         1.77016081e+01, -5.98272208e+00, -2.36374935e+01,\n",
       "         3.02684985e+01,  1.00592127e+01, -2.61033610e+01,\n",
       "        -5.70985077e+00,  6.85397688e+00,  1.14539594e+01,\n",
       "        -2.13645808e+00],\n",
       "       [ 3.93805528e+01, -3.65445554e+01, -1.34981479e+01,\n",
       "         4.41714914e+01, -3.50451940e+01,  1.39102115e+01,\n",
       "         3.85573979e+01, -5.79052668e+01, -2.55685031e+01,\n",
       "         6.61202961e+01,  9.34926356e+00, -4.46728403e+01,\n",
       "         7.66201750e-01,  2.87902666e+01, -2.37491247e+01,\n",
       "        -2.38009678e+00,  2.37296683e+01, -1.40799189e+01,\n",
       "         6.54766460e+00, -9.97916461e+00,  6.84836496e+00,\n",
       "        -5.27153387e+00, -9.56806994e+00,  2.33104414e+01,\n",
       "        -9.02842752e+00,  7.80650276e+00, -8.74373431e+00,\n",
       "        -1.01325049e+01],\n",
       "       [ 1.24824669e+01, -2.83105322e+01,  1.99817197e+01,\n",
       "         3.71535627e+01, -5.40720732e+01, -1.16292911e+01,\n",
       "         4.00577731e+01, -4.96087053e+00, -5.68368148e+00,\n",
       "         1.69181765e+01, -3.49216050e+01, -3.25920956e+00,\n",
       "         3.65304308e+01, -7.38286371e+00, -1.72960660e+01,\n",
       "         1.27641378e+01, -8.90140126e-01, -1.08188088e+01,\n",
       "         6.80197389e+00, -6.56379455e+00,  2.23944675e+01,\n",
       "        -2.09967478e+01, -3.38584434e-01,  3.32683955e+01,\n",
       "        -4.35829269e+01, -1.82509482e+00,  1.64075122e+01,\n",
       "         1.84899258e+01]])"
      ]
     },
     "execution_count": 20,
     "metadata": {},
     "output_type": "execute_result"
    }
   ],
   "source": [
    "# extract coefficient code\n",
    "eight_dct"
   ]
  },
  {
   "cell_type": "code",
   "execution_count": 23,
   "metadata": {},
   "outputs": [
    {
     "data": {
      "image/png": "[encoded data removed]",
      "text/plain": [
       "<Figure size 1200x400 with 1 Axes>"
      ]
     },
     "metadata": {},
     "output_type": "display_data"
    }
   ],
   "source": [
    "plt.figure(figsize=(12, 4))\n",
    "\n",
    "plt.imshow(eight_dct)\n",
    "plt.title(\"Raw image\")\n",
    "plt.axis('off')\n",
    "\n",
    "plt.show()"
   ]
  },
  {
   "cell_type": "markdown",
   "metadata": {},
   "source": [
    "4. Take the inverse"
   ]
  },
  {
   "cell_type": "code",
   "execution_count": 24,
   "metadata": {},
   "outputs": [],
   "source": [
    "# inverse code\n",
    "reconstructed_eight = perform_2d_dct(eight_dct)"
   ]
  },
  {
   "cell_type": "markdown",
   "metadata": {},
   "source": [
    "5. Plot the image"
   ]
  },
  {
   "cell_type": "code",
   "execution_count": 25,
   "metadata": {},
   "outputs": [
    {
     "data": {
      "image/png": "[encoded data removed]",
      "text/plain": [
       "<Figure size 1200x400 with 1 Axes>"
      ]
     },
     "metadata": {},
     "output_type": "display_data"
    }
   ],
   "source": [
    "# Set up plots\n",
    "plt.figure(figsize=(12, 4))\n",
    "\n",
    "plt.imshow(reconstructed_eight)\n",
    "plt.title(\"Raw image\")\n",
    "plt.axis('off')\n",
    "\n",
    "plt.show()"
   ]
  },
  {
   "cell_type": "markdown",
   "metadata": {},
   "source": [
    "Please post your Jupyter Notebook to the discussion board. You are encouraged to review other students' submissions to check and discuss differences in your approaches."
   ]
  }
 ],
 "metadata": {
  "interpreter": {
   "hash": "aee8b7b246df8f9039afb4144a1f6fd8d2ca17a180786b69acc140d282b71a49"
  },
  "kernelspec": {
   "display_name": "Python 3.9.1 64-bit",
   "name": "python3"
  },
  "language_info": {
   "codemirror_mode": {
    "name": "ipython",
    "version": 3
   },
   "file_extension": ".py",
   "mimetype": "text/x-python",
   "name": "python",
   "nbconvert_exporter": "python",
   "pygments_lexer": "ipython3",
   "version": "3.10.12"
  },
  "orig_nbformat": 4
 },
 "nbformat": 4,
 "nbformat_minor": 2
}
