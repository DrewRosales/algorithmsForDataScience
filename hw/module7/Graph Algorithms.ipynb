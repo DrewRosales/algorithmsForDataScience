{
 "cells": [
  {
   "cell_type": "markdown",
   "metadata": {},
   "source": [
    "# Module 7 Activity"
   ]
  },
  {
   "cell_type": "markdown",
   "metadata": {},
   "source": [
    "## Part 1 - Depth-First and Breadth-First Search"
   ]
  },
  {
   "cell_type": "markdown",
   "metadata": {},
   "source": [
    "Breadth-First Search (BFS) and Depth-First Search (DFS) are two fundamental algorithms used to traverse or search through data structures like trees and graphs. These methods help in exploring the nodes or vertices of these structures in a systematic way to find particular elements, paths, or to analyze their properties.\n",
    "\n",
    "**Breadth-First Search (BFS)** works on the principle of exploring all the neighbors of a node before moving on to the neighbors of those neighbors. It starts from a selected node (often called the 'root' in a tree, or any arbitrary node in a graph) and explores the neighbor nodes first, before moving to the next level neighbors. This method uses a queue to keep track of the nodes that need to be explored next. BFS is particularly useful for finding the shortest path on unweighted graphs, as it guarantees the minimum number of edges that must be traversed to reach a node from the starting point.\n",
    "\n",
    "**Depth-First Search (DFS)**, on the other hand, dives deep into the data structure as far as possible before backtracking. Starting from a selected node, it explores as far as possible along each branch before backtracking. This method uses a stack (either explicitly or through recursion) to keep track of the nodes that are being explored. DFS is useful for exploring all the nodes in a graph and can be used to solve puzzles, navigate mazes, and find paths. It is also used in algorithms that require visiting every node, such as checking for cycle in a graph or topological sorting.\n",
    "\n",
    "In the activity, you will be tasked with placing labels in order based on each algorithm's approach to traversal. This hands-on exercise will help you visualize how BFS and DFS differ in their exploration strategy and the order in which nodes are visited. You'll gain a deeper understanding of their applications and how they can be used to solve various computational problems.\n",
    "\n",
    "Use the figure below to traverse the tree structure in both BFS and DFS and write out how the labels would come out for each. You may implement in code or do it by hand and write your answer below the image. "
   ]
  },
  {
   "cell_type": "code",
   "execution_count": 5,
   "metadata": {},
   "outputs": [
    {
     "name": "stderr",
     "output_type": "stream",
     "text": [
      "\n",
      "A module that was compiled using NumPy 1.x cannot be run in\n",
      "NumPy 2.0.0 as it may crash. To support both 1.x and 2.x\n",
      "versions of NumPy, modules must be compiled with NumPy 2.0.\n",
      "Some module may need to rebuild instead e.g. with 'pybind11>=2.12'.\n",
      "\n",
      "If you are a user of the module, the easiest solution will be to\n",
      "downgrade to 'numpy<2' or try to upgrade the affected module.\n",
      "We expect that some modules will need time to support NumPy 2.\n",
      "\n",
      "Traceback (most recent call last):  File \"/usr/lib/python3.10/runpy.py\", line 196, in _run_module_as_main\n",
      "    return _run_code(code, main_globals, None,\n",
      "  File \"/usr/lib/python3.10/runpy.py\", line 86, in _run_code\n",
      "    exec(code, run_globals)\n",
      "  File \"/home/drew/.local/lib/python3.10/site-packages/ipykernel_launcher.py\", line 17, in <module>\n",
      "    app.launch_new_instance()\n",
      "  File \"/home/drew/.local/lib/python3.10/site-packages/traitlets/config/application.py\", line 978, in launch_instance\n",
      "    app.start()\n",
      "  File \"/home/drew/.local/lib/python3.10/site-packages/ipykernel/kernelapp.py\", line 712, in start\n",
      "    self.io_loop.start()\n",
      "  File \"/home/drew/.local/lib/python3.10/site-packages/tornado/platform/asyncio.py\", line 215, in start\n",
      "    self.asyncio_loop.run_forever()\n",
      "  File \"/usr/lib/python3.10/asyncio/base_events.py\", line 603, in run_forever\n",
      "    self._run_once()\n",
      "  File \"/usr/lib/python3.10/asyncio/base_events.py\", line 1909, in _run_once\n",
      "    handle._run()\n",
      "  File \"/usr/lib/python3.10/asyncio/events.py\", line 80, in _run\n",
      "    self._context.run(self._callback, *self._args)\n",
      "  File \"/home/drew/.local/lib/python3.10/site-packages/ipykernel/kernelbase.py\", line 510, in dispatch_queue\n",
      "    await self.process_one()\n",
      "  File \"/home/drew/.local/lib/python3.10/site-packages/ipykernel/kernelbase.py\", line 499, in process_one\n",
      "    await dispatch(*args)\n",
      "  File \"/home/drew/.local/lib/python3.10/site-packages/ipykernel/kernelbase.py\", line 406, in dispatch_shell\n",
      "    await result\n",
      "  File \"/home/drew/.local/lib/python3.10/site-packages/ipykernel/kernelbase.py\", line 730, in execute_request\n",
      "    reply_content = await reply_content\n",
      "  File \"/home/drew/.local/lib/python3.10/site-packages/ipykernel/ipkernel.py\", line 383, in do_execute\n",
      "    res = shell.run_cell(\n",
      "  File \"/home/drew/.local/lib/python3.10/site-packages/ipykernel/zmqshell.py\", line 528, in run_cell\n",
      "    return super().run_cell(*args, **kwargs)\n",
      "  File \"/home/drew/.local/lib/python3.10/site-packages/IPython/core/interactiveshell.py\", line 2885, in run_cell\n",
      "    result = self._run_cell(\n",
      "  File \"/home/drew/.local/lib/python3.10/site-packages/IPython/core/interactiveshell.py\", line 2940, in _run_cell\n",
      "    return runner(coro)\n",
      "  File \"/home/drew/.local/lib/python3.10/site-packages/IPython/core/async_helpers.py\", line 129, in _pseudo_sync_runner\n",
      "    coro.send(None)\n",
      "  File \"/home/drew/.local/lib/python3.10/site-packages/IPython/core/interactiveshell.py\", line 3139, in run_cell_async\n",
      "    has_raised = await self.run_ast_nodes(code_ast.body, cell_name,\n",
      "  File \"/home/drew/.local/lib/python3.10/site-packages/IPython/core/interactiveshell.py\", line 3318, in run_ast_nodes\n",
      "    if await self.run_code(code, result, async_=asy):\n",
      "  File \"/home/drew/.local/lib/python3.10/site-packages/IPython/core/interactiveshell.py\", line 3378, in run_code\n",
      "    exec(code_obj, self.user_global_ns, self.user_ns)\n",
      "  File \"/tmp/ipykernel_58111/3411270256.py\", line 2, in <module>\n",
      "    import matplotlib.pyplot as plt\n",
      "  File \"/home/drew/.local/lib/python3.10/site-packages/matplotlib/__init__.py\", line 113, in <module>\n",
      "    from . import _api, _version, cbook, _docstring, rcsetup\n",
      "  File \"/home/drew/.local/lib/python3.10/site-packages/matplotlib/rcsetup.py\", line 27, in <module>\n",
      "    from matplotlib.colors import Colormap, is_color_like\n",
      "  File \"/home/drew/.local/lib/python3.10/site-packages/matplotlib/colors.py\", line 56, in <module>\n",
      "    from matplotlib import _api, _cm, cbook, scale\n",
      "  File \"/home/drew/.local/lib/python3.10/site-packages/matplotlib/scale.py\", line 22, in <module>\n",
      "    from matplotlib.ticker import (\n",
      "  File \"/home/drew/.local/lib/python3.10/site-packages/matplotlib/ticker.py\", line 138, in <module>\n",
      "    from matplotlib import transforms as mtransforms\n",
      "  File \"/home/drew/.local/lib/python3.10/site-packages/matplotlib/transforms.py\", line 49, in <module>\n",
      "    from matplotlib._path import (\n"
     ]
    },
    {
     "ename": "AttributeError",
     "evalue": "_ARRAY_API not found",
     "output_type": "error",
     "traceback": [
      "\u001b[0;31m---------------------------------------------------------------------------\u001b[0m",
      "\u001b[0;31mAttributeError\u001b[0m                            Traceback (most recent call last)",
      "\u001b[0;31mAttributeError\u001b[0m: _ARRAY_API not found"
     ]
    },
    {
     "ename": "ImportError",
     "evalue": "numpy.core.multiarray failed to import",
     "output_type": "error",
     "traceback": [
      "\u001b[0;31m---------------------------------------------------------------------------\u001b[0m",
      "\u001b[0;31mImportError\u001b[0m                               Traceback (most recent call last)",
      "Cell \u001b[0;32mIn [5], line 2\u001b[0m\n\u001b[1;32m      1\u001b[0m \u001b[38;5;28;01mimport\u001b[39;00m \u001b[38;5;21;01mnetworkx\u001b[39;00m \u001b[38;5;28;01mas\u001b[39;00m \u001b[38;5;21;01mnx\u001b[39;00m\n\u001b[0;32m----> 2\u001b[0m \u001b[38;5;28;01mimport\u001b[39;00m \u001b[38;5;21;01mmatplotlib\u001b[39;00m\u001b[38;5;21;01m.\u001b[39;00m\u001b[38;5;21;01mpyplot\u001b[39;00m \u001b[38;5;28;01mas\u001b[39;00m \u001b[38;5;21;01mplt\u001b[39;00m\n",
      "File \u001b[0;32m~/.local/lib/python3.10/site-packages/matplotlib/__init__.py:113\u001b[0m\n\u001b[1;32m    109\u001b[0m \u001b[38;5;28;01mfrom\u001b[39;00m \u001b[38;5;21;01mpackaging\u001b[39;00m\u001b[38;5;21;01m.\u001b[39;00m\u001b[38;5;21;01mversion\u001b[39;00m \u001b[38;5;28;01mimport\u001b[39;00m parse \u001b[38;5;28;01mas\u001b[39;00m parse_version\n\u001b[1;32m    111\u001b[0m \u001b[38;5;66;03m# cbook must import matplotlib only within function\u001b[39;00m\n\u001b[1;32m    112\u001b[0m \u001b[38;5;66;03m# definitions, so it is safe to import from it here.\u001b[39;00m\n\u001b[0;32m--> 113\u001b[0m \u001b[38;5;28;01mfrom\u001b[39;00m \u001b[38;5;21;01m.\u001b[39;00m \u001b[38;5;28;01mimport\u001b[39;00m _api, _version, cbook, _docstring, rcsetup\n\u001b[1;32m    114\u001b[0m \u001b[38;5;28;01mfrom\u001b[39;00m \u001b[38;5;21;01mmatplotlib\u001b[39;00m\u001b[38;5;21;01m.\u001b[39;00m\u001b[38;5;21;01mcbook\u001b[39;00m \u001b[38;5;28;01mimport\u001b[39;00m sanitize_sequence\n\u001b[1;32m    115\u001b[0m \u001b[38;5;28;01mfrom\u001b[39;00m \u001b[38;5;21;01mmatplotlib\u001b[39;00m\u001b[38;5;21;01m.\u001b[39;00m\u001b[38;5;21;01m_api\u001b[39;00m \u001b[38;5;28;01mimport\u001b[39;00m MatplotlibDeprecationWarning\n",
      "File \u001b[0;32m~/.local/lib/python3.10/site-packages/matplotlib/rcsetup.py:27\u001b[0m\n\u001b[1;32m     25\u001b[0m \u001b[38;5;28;01mfrom\u001b[39;00m \u001b[38;5;21;01mmatplotlib\u001b[39;00m \u001b[38;5;28;01mimport\u001b[39;00m _api, cbook\n\u001b[1;32m     26\u001b[0m \u001b[38;5;28;01mfrom\u001b[39;00m \u001b[38;5;21;01mmatplotlib\u001b[39;00m\u001b[38;5;21;01m.\u001b[39;00m\u001b[38;5;21;01mcbook\u001b[39;00m \u001b[38;5;28;01mimport\u001b[39;00m ls_mapper\n\u001b[0;32m---> 27\u001b[0m \u001b[38;5;28;01mfrom\u001b[39;00m \u001b[38;5;21;01mmatplotlib\u001b[39;00m\u001b[38;5;21;01m.\u001b[39;00m\u001b[38;5;21;01mcolors\u001b[39;00m \u001b[38;5;28;01mimport\u001b[39;00m Colormap, is_color_like\n\u001b[1;32m     28\u001b[0m \u001b[38;5;28;01mfrom\u001b[39;00m \u001b[38;5;21;01mmatplotlib\u001b[39;00m\u001b[38;5;21;01m.\u001b[39;00m\u001b[38;5;21;01m_fontconfig_pattern\u001b[39;00m \u001b[38;5;28;01mimport\u001b[39;00m parse_fontconfig_pattern\n\u001b[1;32m     29\u001b[0m \u001b[38;5;28;01mfrom\u001b[39;00m \u001b[38;5;21;01mmatplotlib\u001b[39;00m\u001b[38;5;21;01m.\u001b[39;00m\u001b[38;5;21;01m_enums\u001b[39;00m \u001b[38;5;28;01mimport\u001b[39;00m JoinStyle, CapStyle\n",
      "File \u001b[0;32m~/.local/lib/python3.10/site-packages/matplotlib/colors.py:56\u001b[0m\n\u001b[1;32m     54\u001b[0m \u001b[38;5;28;01mimport\u001b[39;00m \u001b[38;5;21;01mmatplotlib\u001b[39;00m \u001b[38;5;28;01mas\u001b[39;00m \u001b[38;5;21;01mmpl\u001b[39;00m\n\u001b[1;32m     55\u001b[0m \u001b[38;5;28;01mimport\u001b[39;00m \u001b[38;5;21;01mnumpy\u001b[39;00m \u001b[38;5;28;01mas\u001b[39;00m \u001b[38;5;21;01mnp\u001b[39;00m\n\u001b[0;32m---> 56\u001b[0m \u001b[38;5;28;01mfrom\u001b[39;00m \u001b[38;5;21;01mmatplotlib\u001b[39;00m \u001b[38;5;28;01mimport\u001b[39;00m _api, _cm, cbook, scale\n\u001b[1;32m     57\u001b[0m \u001b[38;5;28;01mfrom\u001b[39;00m \u001b[38;5;21;01m.\u001b[39;00m\u001b[38;5;21;01m_color_data\u001b[39;00m \u001b[38;5;28;01mimport\u001b[39;00m BASE_COLORS, TABLEAU_COLORS, CSS4_COLORS, XKCD_COLORS\n\u001b[1;32m     60\u001b[0m \u001b[38;5;28;01mclass\u001b[39;00m \u001b[38;5;21;01m_ColorMapping\u001b[39;00m(\u001b[38;5;28mdict\u001b[39m):\n",
      "File \u001b[0;32m~/.local/lib/python3.10/site-packages/matplotlib/scale.py:22\u001b[0m\n\u001b[1;32m     20\u001b[0m \u001b[38;5;28;01mimport\u001b[39;00m \u001b[38;5;21;01mmatplotlib\u001b[39;00m \u001b[38;5;28;01mas\u001b[39;00m \u001b[38;5;21;01mmpl\u001b[39;00m\n\u001b[1;32m     21\u001b[0m \u001b[38;5;28;01mfrom\u001b[39;00m \u001b[38;5;21;01mmatplotlib\u001b[39;00m \u001b[38;5;28;01mimport\u001b[39;00m _api, _docstring\n\u001b[0;32m---> 22\u001b[0m \u001b[38;5;28;01mfrom\u001b[39;00m \u001b[38;5;21;01mmatplotlib\u001b[39;00m\u001b[38;5;21;01m.\u001b[39;00m\u001b[38;5;21;01mticker\u001b[39;00m \u001b[38;5;28;01mimport\u001b[39;00m (\n\u001b[1;32m     23\u001b[0m     NullFormatter, ScalarFormatter, LogFormatterSciNotation, LogitFormatter,\n\u001b[1;32m     24\u001b[0m     NullLocator, LogLocator, AutoLocator, AutoMinorLocator,\n\u001b[1;32m     25\u001b[0m     SymmetricalLogLocator, AsinhLocator, LogitLocator)\n\u001b[1;32m     26\u001b[0m \u001b[38;5;28;01mfrom\u001b[39;00m \u001b[38;5;21;01mmatplotlib\u001b[39;00m\u001b[38;5;21;01m.\u001b[39;00m\u001b[38;5;21;01mtransforms\u001b[39;00m \u001b[38;5;28;01mimport\u001b[39;00m Transform, IdentityTransform\n\u001b[1;32m     29\u001b[0m \u001b[38;5;28;01mclass\u001b[39;00m \u001b[38;5;21;01mScaleBase\u001b[39;00m:\n",
      "File \u001b[0;32m~/.local/lib/python3.10/site-packages/matplotlib/ticker.py:138\u001b[0m\n\u001b[1;32m    136\u001b[0m \u001b[38;5;28;01mimport\u001b[39;00m \u001b[38;5;21;01mmatplotlib\u001b[39;00m \u001b[38;5;28;01mas\u001b[39;00m \u001b[38;5;21;01mmpl\u001b[39;00m\n\u001b[1;32m    137\u001b[0m \u001b[38;5;28;01mfrom\u001b[39;00m \u001b[38;5;21;01mmatplotlib\u001b[39;00m \u001b[38;5;28;01mimport\u001b[39;00m _api, cbook\n\u001b[0;32m--> 138\u001b[0m \u001b[38;5;28;01mfrom\u001b[39;00m \u001b[38;5;21;01mmatplotlib\u001b[39;00m \u001b[38;5;28;01mimport\u001b[39;00m transforms \u001b[38;5;28;01mas\u001b[39;00m mtransforms\n\u001b[1;32m    140\u001b[0m _log \u001b[38;5;241m=\u001b[39m logging\u001b[38;5;241m.\u001b[39mgetLogger(\u001b[38;5;18m__name__\u001b[39m)\n\u001b[1;32m    142\u001b[0m __all__ \u001b[38;5;241m=\u001b[39m (\u001b[38;5;124m'\u001b[39m\u001b[38;5;124mTickHelper\u001b[39m\u001b[38;5;124m'\u001b[39m, \u001b[38;5;124m'\u001b[39m\u001b[38;5;124mFormatter\u001b[39m\u001b[38;5;124m'\u001b[39m, \u001b[38;5;124m'\u001b[39m\u001b[38;5;124mFixedFormatter\u001b[39m\u001b[38;5;124m'\u001b[39m,\n\u001b[1;32m    143\u001b[0m            \u001b[38;5;124m'\u001b[39m\u001b[38;5;124mNullFormatter\u001b[39m\u001b[38;5;124m'\u001b[39m, \u001b[38;5;124m'\u001b[39m\u001b[38;5;124mFuncFormatter\u001b[39m\u001b[38;5;124m'\u001b[39m, \u001b[38;5;124m'\u001b[39m\u001b[38;5;124mFormatStrFormatter\u001b[39m\u001b[38;5;124m'\u001b[39m,\n\u001b[1;32m    144\u001b[0m            \u001b[38;5;124m'\u001b[39m\u001b[38;5;124mStrMethodFormatter\u001b[39m\u001b[38;5;124m'\u001b[39m, \u001b[38;5;124m'\u001b[39m\u001b[38;5;124mScalarFormatter\u001b[39m\u001b[38;5;124m'\u001b[39m, \u001b[38;5;124m'\u001b[39m\u001b[38;5;124mLogFormatter\u001b[39m\u001b[38;5;124m'\u001b[39m,\n\u001b[0;32m   (...)\u001b[0m\n\u001b[1;32m    150\u001b[0m            \u001b[38;5;124m'\u001b[39m\u001b[38;5;124mMultipleLocator\u001b[39m\u001b[38;5;124m'\u001b[39m, \u001b[38;5;124m'\u001b[39m\u001b[38;5;124mMaxNLocator\u001b[39m\u001b[38;5;124m'\u001b[39m, \u001b[38;5;124m'\u001b[39m\u001b[38;5;124mAutoMinorLocator\u001b[39m\u001b[38;5;124m'\u001b[39m,\n\u001b[1;32m    151\u001b[0m            \u001b[38;5;124m'\u001b[39m\u001b[38;5;124mSymmetricalLogLocator\u001b[39m\u001b[38;5;124m'\u001b[39m, \u001b[38;5;124m'\u001b[39m\u001b[38;5;124mAsinhLocator\u001b[39m\u001b[38;5;124m'\u001b[39m, \u001b[38;5;124m'\u001b[39m\u001b[38;5;124mLogitLocator\u001b[39m\u001b[38;5;124m'\u001b[39m)\n",
      "File \u001b[0;32m~/.local/lib/python3.10/site-packages/matplotlib/transforms.py:49\u001b[0m\n\u001b[1;32m     46\u001b[0m \u001b[38;5;28;01mfrom\u001b[39;00m \u001b[38;5;21;01mnumpy\u001b[39;00m\u001b[38;5;21;01m.\u001b[39;00m\u001b[38;5;21;01mlinalg\u001b[39;00m \u001b[38;5;28;01mimport\u001b[39;00m inv\n\u001b[1;32m     48\u001b[0m \u001b[38;5;28;01mfrom\u001b[39;00m \u001b[38;5;21;01mmatplotlib\u001b[39;00m \u001b[38;5;28;01mimport\u001b[39;00m _api\n\u001b[0;32m---> 49\u001b[0m \u001b[38;5;28;01mfrom\u001b[39;00m \u001b[38;5;21;01mmatplotlib\u001b[39;00m\u001b[38;5;21;01m.\u001b[39;00m\u001b[38;5;21;01m_path\u001b[39;00m \u001b[38;5;28;01mimport\u001b[39;00m (\n\u001b[1;32m     50\u001b[0m     affine_transform, count_bboxes_overlapping_bbox, update_path_extents)\n\u001b[1;32m     51\u001b[0m \u001b[38;5;28;01mfrom\u001b[39;00m \u001b[38;5;21;01m.\u001b[39;00m\u001b[38;5;21;01mpath\u001b[39;00m \u001b[38;5;28;01mimport\u001b[39;00m Path\n\u001b[1;32m     53\u001b[0m DEBUG \u001b[38;5;241m=\u001b[39m \u001b[38;5;28;01mFalse\u001b[39;00m\n",
      "\u001b[0;31mImportError\u001b[0m: numpy.core.multiarray failed to import"
     ]
    }
   ],
   "source": [
    "import networkx as nx\n",
    "import matplotlib.pyplot as plt"
   ]
  },
  {
   "cell_type": "code",
   "execution_count": null,
   "metadata": {},
   "outputs": [],
   "source": [
    "# Create an empty graph\n",
    "G = nx.Graph()\n",
    "\n",
    "# Add nodes with the node attribute 'pos' to position them\n",
    "positions = {13: (0, 0), 14: (4, 0), 15: (8, 0), 16: (10, 0), 17: (12, 0), 18: (14, 0),\n",
    "             5: (0, 2), 6: (2, 2), 7: (4, 2), 8: (6, 2), 9: (8, 2), 10: (10, 2), 11: (12, 2), 12: (14, 2),\n",
    "             2: (5, 5), 3: (8, 5), 4: (11, 5), 1: (8, 7)}\n",
    "\n",
    "edges = {(13, 5), (5, 2), (2, 1), (1, 3), (1, 4), (2, 6), \n",
    "         (2, 7), (7, 14), (3, 8), (3, 9), (9, 15), (4, 10), \n",
    "         (4, 11), (4, 12), (10, 16), (11, 17), (12, 18)}\n",
    "\n",
    "G.add_nodes_from(positions.keys())\n",
    "G.add_edges_from(edges)"
   ]
  },
  {
   "cell_type": "code",
   "execution_count": 1,
   "metadata": {},
   "outputs": [
    {
     "ename": "NameError",
     "evalue": "name 'plt' is not defined",
     "output_type": "error",
     "traceback": [
      "\u001b[0;31m---------------------------------------------------------------------------\u001b[0m",
      "\u001b[0;31mNameError\u001b[0m                                 Traceback (most recent call last)",
      "Cell \u001b[0;32mIn [1], line 2\u001b[0m\n\u001b[1;32m      1\u001b[0m \u001b[38;5;66;03m# Draw the graph according to the positions with labels\u001b[39;00m\n\u001b[0;32m----> 2\u001b[0m plt\u001b[38;5;241m.\u001b[39mfigure(figsize\u001b[38;5;241m=\u001b[39m(\u001b[38;5;241m12\u001b[39m, \u001b[38;5;241m5\u001b[39m))  \u001b[38;5;66;03m# You can adjust these values as needed\u001b[39;00m\n\u001b[1;32m      3\u001b[0m nx\u001b[38;5;241m.\u001b[39mdraw(G, positions, with_labels\u001b[38;5;241m=\u001b[39m\u001b[38;5;28;01mTrue\u001b[39;00m, node_color\u001b[38;5;241m=\u001b[39m\u001b[38;5;124m'\u001b[39m\u001b[38;5;124mskyblue\u001b[39m\u001b[38;5;124m'\u001b[39m, node_size\u001b[38;5;241m=\u001b[39m\u001b[38;5;241m900\u001b[39m)\n\u001b[1;32m      4\u001b[0m nx\u001b[38;5;241m.\u001b[39mdraw_networkx_edges(G, positions, edgelist\u001b[38;5;241m=\u001b[39medges)\n",
      "\u001b[0;31mNameError\u001b[0m: name 'plt' is not defined"
     ]
    }
   ],
   "source": [
    "# Draw the graph according to the positions with labels\n",
    "plt.figure(figsize=(12, 5))  # You can adjust these values as needed\n",
    "nx.draw(G, positions, with_labels=True, node_color='skyblue', node_size=900)\n",
    "nx.draw_networkx_edges(G, positions, edgelist=edges)\n",
    "plt.show()"
   ]
  },
  {
   "cell_type": "markdown",
   "metadata": {},
   "source": [
    "### Breadth First Search\n",
    "The root node, `1`, is the only vertex discoverable at the start, thus it is the only member of the queue. First, `1` is popped from the queue and is visited. `2`, `3`, and `4` are the next to be discovered and placed in the queue. `2` is popped and is visited. Next, we see what is discoverable based on the visited nodes, `1` and `2`. This results in the following queue: `3`, `4`, `5`, `6`, and `7`. `3` is then popped and we look at new discoverable nodes. The queue becomes `4`, `5`, `6`, `7`, `8`, and `9`. `4` is popped then the queue becomes `5`, `6`, `7`, `8`, `9`, `10`, `11`, and `12`. `5` is added `13` is added to the queue. `6` is added and the queue stays the same. `7` is added then `14` is added to the queue. `8` is popped but the queue remains the same. `9` is popped and `15` is added. `10` is visited and `16` is added to the queue. `11` is visited with `17` added to the queue. `12` is visited and `18` is added to the queue. The remaining queue is added and the search is completed since they are leaf nodes: `13` ,`14`, `15, `16`, `17`, and `18` are added in the respective order. So, the search becomes `1`, `2`, `3`, `4`, `5`, `6`, `7`, `8`, `9`, `10`, `11`, `12`, `13`, `14`, `15`, `16`, `17`, and `18`.\n",
    "\n",
    "#### Complexity\n",
    "The first part of BFS is adding the vertices to the queue for discovery. This is dependent on the number of vertices, V. Resulting in O(v) in the worst case. The second part is discovering nodes that have been visited to add to the queue. This is depending on the edges connecting the visited nodes and the number of edges connecting them, O(E). So, the overall cost of BFS becomes O(V + E)\n",
    "\n",
    "\n",
    "### Depth First Search\n",
    "Starting at the root node, `1`, we first look at the left-most subtree recursively. This results in discovering `[1, 2, 5, 13]` in the respective order. The middle branch of `2` is added, resulting in `[1, 2, 5, 13, 6]`. Then the right subtree of `2` which becomes `[1, 2, 5, 13, 6, 7, 14]`. The middle subtree of `3` is then added: `[1, 2, 5, 13, 6, 7, 14, 3, 8, 9, 15]`. Finally, the `4` subtree is added starting with the left: `[1, 2, 5, 13, 6, 7, 14, 3, 8, 9, 15, 4, 10, 16]`. The middle subtree: `[1, 2, 5, 13, 6, 7, 14, 3, 8, 9, 15, 4, 10, 16, 11, 17]`. And to complete the tree, the right subtree: `[1, 2, 5, 13, 6, 7, 14, 3, 8, 9, 15, 4, 10, 16, 11, 17, 12, 18]`.\n",
    "\n",
    "#### Complexity\n",
    "Depth First Search adds vertices to the a list of discovered nodes. This will be completed in O(V) time. Secondly, DFS iterately traverses through the adjacency list which has as cost of O(E). This results in the same worst time complexity as BFS: O(V+E)"
   ]
  },
  {
   "cell_type": "markdown",
   "metadata": {},
   "source": [
    "## Part 2 - Minimum Spanning Tree"
   ]
  },
  {
   "cell_type": "markdown",
   "metadata": {},
   "source": [
    "The **Minimum Spanning Tree (MST)** is a concept in graph theory used to describe a subset of the edges in a weighted, undirected graph that connects all the vertices together without any cycles and with the minimum possible total edge weight. This concept is crucial in various applications such as network design, where the goal is to minimize the cost of laying out utilities. Two popular algorithms for finding the MST are Prim's Algorithm and Kruskal's Algorithm.\n",
    "\n",
    "**Prim's Algorithm** starts from a single vertex and grows the spanning tree one edge at a time until all vertices are included. At each step, it selects the minimum weight edge that connects a vertex in the tree to a vertex outside the tree and adds it to the MST. This algorithm is somewhat similar in spirit to Breadth-First Search (BFS) as it explores outward from a starting vertex, considering all the neighboring edges and expanding to the closest unvisited vertices.\n",
    "\n",
    "**Kruskal's Algorithm**, in contrast, begins by treating every vertex as a separate tree (or a set) and then merges these trees together by repeatedly adding the lowest weight edge that connects two different trees. It ignores edges that would form a cycle to ensure a tree structure is maintained. Kruskal's Algorithm can be thought of as having a Depth-First Search (DFS)-like flavor because it explores the graph based on edge weights, potentially jumping around the graph as it connects different components, rather than expanding out uniformly from a single point.\n",
    "\n",
    "Both algorithms have their unique way of approaching the problem of finding the MST, with Prim's being more focused and localized in its search, similar to BFS, and Kruskal's being more global and encompassing, akin to DFS. However, the similarity to BFS and DFS is conceptual in terms of their expanding search patterns rather than direct applications of these searches.\n",
    "\n",
    "In practice, Prim's Algorithm is efficient for dense graphs where the number of edges is large compared to the number of vertices, while Kruskal's Algorithm tends to perform better on sparse graphs. The choice between them depends on the specific characteristics of the graph in question and the computational resources available.\n",
    "\n",
    "During the activity, you'll have the opportunity to apply both Prim's and Kruskal's Algorithms to construct the Minimum Spanning Tree of given graphs. This will not only solidify your understanding of these algorithms but also illustrate their differences in approach and how they each relate to fundamental search techniques like BFS and DFS.\n",
    "\n",
    "Use the figure below to find the minimum spanning tree using both algorithms. You may implement in code or do it by hand and write your answer below the image. "
   ]
  },
  {
   "cell_type": "code",
   "execution_count": null,
   "metadata": {},
   "outputs": [],
   "source": [
    "# Create an empty graph\n",
    "G = nx.Graph()\n",
    "\n",
    "# Add nodes with the node attribute 'pos' to position them\n",
    "positions = {'a': (0, 0), 'b': (1, 2), 'h': (1, -2),\n",
    "             'i': (2, 0), 'c': (3, 2), 'g': (3, -2),\n",
    "             'd': (5, 2), 'f': (5, -2), 'e': (6, 0)}\n",
    "\n",
    "# Stretch the graph horizontally by multiplying the x-coordinate by 2 (or any other factor)\n",
    "scale_factor = 1.5  # Adjust this factor as needed\n",
    "stretched_positions = {node: (x*scale_factor, y*scale_factor) for node, (x, y) in positions.items()}\n",
    "\n",
    "# Add edges with weights\n",
    "edges = [('a', 'b', 4), ('a', 'h', 8), ('b', 'h', 11),\n",
    "         ('h', 'i', 7), ('i', 'c', 2), ('i', 'g', 6),\n",
    "         ('h', 'g', 1), ('g', 'f', 2), ('c', 'f', 4),\n",
    "         ('c', 'd', 7), ('d', 'f', 14), ('d', 'e', 9),\n",
    "         ('f', 'e', 10), ('b', 'c', 8)]  # Each tuple represents (node1, node2, weight)\n",
    "\n",
    "# Add nodes and edges to the graph\n",
    "G.add_nodes_from(stretched_positions.keys())\n",
    "G.add_weighted_edges_from(edges)\n"
   ]
  },
  {
   "cell_type": "code",
   "execution_count": null,
   "metadata": {},
   "outputs": [
    {
     "data": {
      "image/png": "[encoded data removed]",
      "text/plain": [
       "<Figure size 1200x500 with 1 Axes>"
      ]
     },
     "metadata": {},
     "output_type": "display_data"
    }
   ],
   "source": [
    "# Draw the graph according to the positions with labels and weights\n",
    "plt.figure(figsize=(12, 5))  # You can adjust these values as needed\n",
    "nx.draw(G, stretched_positions, with_labels=True, node_color='skyblue', node_size=700)\n",
    "\n",
    "# Draw edge labels to show weights\n",
    "edge_labels = nx.get_edge_attributes(G, 'weight')\n",
    "nx.draw_networkx_edge_labels(G, stretched_positions, edge_labels=edge_labels, font_size=15)\n",
    "\n",
    "plt.show()\n"
   ]
  },
  {
   "cell_type": "markdown",
   "metadata": {},
   "source": [
    "### Prim's Algorithm\n",
    "Let's start with 'a' as the starting point. Looking at the adjacent vertices, `b` and `h` we both since there is no smaller edge cost connecting us to these nodes. We can now compare the vertices adjacent to `b` and `h`. This gives us three edges `{b, c}, {h, i}, and {h, g}`. Since, h to g has a cost of 1 we add `g` to our Minimal Spanning Tree. Exploring our edges we have `{g, f}, {g, i}, {h, i}, {b, c}` with values of `2, 6, 7, and 8` respectively. We select `f` to be the next node in the MST. Searching now we are exposed to `{g,i}, {h, i}, {b,c}, {f, c}, {f, d}, {f, e}`. We select `c` given the cost of `4`. Next we choose `i` with a cost of `2`. Our adjacency becomes `{c,d}, {f, d}, {f,e} with costs of `7, 14, and 10` respectively. We choose `d` as the next node in the MST. Lastly, we choose `{d,e}` to complete the MST.\n",
    "\n",
    "#### Complexity\n",
    "Prim's algorithm is dependent on the size of the adjacency matrix. This is a `V x V` matrix, so the overall cost is `O(V^2)`\n",
    "\n",
    "### Kruskal's Algorithm\n",
    "Kruskal's algorithm first starts with sorting all the edges. We select the nodes based on the smallest edge weight. So, `{h,g}` is selected first with a weight of `1`. `{g, f}` is the next smallest with a weight of `2`. `{i, c}` is next with also a weight of `2`. `{a, b}` is added next with a weight of `4`. `c, f` is skipped since it will form a cycle despite having a low cost.`{i, g}` is the next connection with a cost of `6`. `{i, h}` is skipped since it will form a cycle. But `{c, d}` is added with a cost of `7`. `{a, h} or {b, c}` can be added but not both because either will make the other a cycle. Lastly, `{d, e}` is added with a weight of `9`.\n",
    "\n",
    "#### Complexity\n",
    "The cost of Kruskal's algorithm contains two parts: sorting the edges and selecting the nodes based off the edges. Sorting the edges is represented by a `O(E log(E))`. Selecting the nodes involves sorting through the edges, `O(E)`. So the overall cost is `O(E log(E))`"
   ]
  },
  {
   "cell_type": "markdown",
   "metadata": {},
   "source": []
  }
 ],
 "metadata": {
  "kernelspec": {
   "display_name": "en-685-621",
   "language": "python",
   "name": "python3"
  },
  "language_info": {
   "codemirror_mode": {
    "name": "ipython",
    "version": 3
   },
   "file_extension": ".py",
   "mimetype": "text/x-python",
   "name": "python",
   "nbconvert_exporter": "python",
   "pygments_lexer": "ipython3",
   "version": "3.10.12"
  }
 },
 "nbformat": 4,
 "nbformat_minor": 2
}
